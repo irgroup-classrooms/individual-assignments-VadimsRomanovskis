{
 "cells": [
  {
   "cell_type": "markdown",
   "id": "541ef56d-0c95-4985-bcd4-1f180a48c9c1",
   "metadata": {},
   "source": [
    "## Web Scraper using an AI *(ChatGPT)*"
   ]
  },
  {
   "cell_type": "code",
   "execution_count": 2,
   "id": "8d88b8f5-ccb5-4e4f-89d3-381c58d614dd",
   "metadata": {},
   "outputs": [
    {
     "name": "stdout",
     "output_type": "stream",
     "text": [
      "   #                    Name          Type  Total  HP  Attack  Defense  \\\n",
      "0  1               Bulbasaur  Grass Poison    318  45      49       49   \n",
      "1  2                 Ivysaur  Grass Poison    405  60      62       63   \n",
      "2  3                Venusaur  Grass Poison    525  80      82       83   \n",
      "3  3  Venusaur Mega Venusaur  Grass Poison    625  80     100      123   \n",
      "4  4              Charmander          Fire    309  39      52       43   \n",
      "\n",
      "   Sp. Atk  Sp. Def  Speed                                             Sprite  \n",
      "0       65       65     45  https://img.pokemondb.net/sprites/scarlet-viol...  \n",
      "1       80       80     60  https://img.pokemondb.net/sprites/scarlet-viol...  \n",
      "2      100      100     80  https://img.pokemondb.net/sprites/scarlet-viol...  \n",
      "3      122      120     80  https://img.pokemondb.net/sprites/scarlet-viol...  \n",
      "4       60       50     65  https://img.pokemondb.net/sprites/scarlet-viol...  \n"
     ]
    }
   ],
   "source": [
    "import requests\n",
    "from bs4 import BeautifulSoup\n",
    "import pandas as pd\n",
    "\n",
    "# URL of the page to scrape\n",
    "url = \"https://pokemondb.net/pokedex/all\"\n",
    "\n",
    "# Make a GET request to fetch the HTML content\n",
    "response = requests.get(url)\n",
    "soup = BeautifulSoup(response.content, 'html.parser')\n",
    "\n",
    "# Locate the table\n",
    "table = soup.find('table', {'id': 'pokedex'})\n",
    "\n",
    "# Extract table headers\n",
    "headers = [header.text for header in table.find_all('th')]\n",
    "\n",
    "# Extract table rows\n",
    "rows = []\n",
    "for row in table.find_all('tr')[1:]:  # Skip the header row\n",
    "    cells = row.find_all('td')\n",
    "    data = [cell.text.strip() for cell in cells]\n",
    "    # Add sprite image URL (bonus)\n",
    "    sprite = row.find('img')['src'] if row.find('img') else None\n",
    "    data.append(sprite)\n",
    "    rows.append(data)\n",
    "\n",
    "# Add \"Sprite\" to headers for the image column\n",
    "headers.append('Sprite')\n",
    "\n",
    "# Create a DataFrame\n",
    "df = pd.DataFrame(rows, columns=headers)\n",
    "\n",
    "# Convert numeric columns to appropriate types\n",
    "numeric_columns = ['#', 'Total', 'HP', 'Attack', 'Defense', 'Sp. Atk', 'Sp. Def', 'Speed']\n",
    "for col in numeric_columns:\n",
    "    df[col] = pd.to_numeric(df[col], errors='coerce')\n",
    "\n",
    "# Save the DataFrame for further analysis\n",
    "df.to_csv(\"pokemon_data.csv\", index=False)\n",
    "\n",
    "# Display the first few rows\n",
    "print(df.head())"
   ]
  },
  {
   "cell_type": "markdown",
   "id": "191abef7-b85e-4054-bb10-69b48d7cc45a",
   "metadata": {},
   "source": [
    "## Exploratory data analysis using an AI *(ChatGPT)*"
   ]
  },
  {
   "cell_type": "markdown",
   "id": "72581774-1e44-4222-b878-649959a30e8b",
   "metadata": {},
   "source": [
    "### Strongest Pokemon"
   ]
  },
  {
   "cell_type": "code",
   "execution_count": 14,
   "id": "796f09e9-92e6-46fb-a224-1fc99c6b0f09",
   "metadata": {},
   "outputs": [
    {
     "name": "stdout",
     "output_type": "stream",
     "text": [
      "Strongest Pokémon of each type:\n",
      "                          Name           Type  Total\n",
      "167                     Pinsir            Bug    500\n",
      "1095                     Lokix       Bug Dark    450\n",
      "888                   Vikavolt   Bug Electric    500\n",
      "896                   Ribombee      Bug Fairy    464\n",
      "274   Heracross Mega Heracross   Bug Fighting    600\n",
      "...                        ...            ...    ...\n",
      "176                     Lapras      Water Ice    535\n",
      "94                  Tentacruel   Water Poison    515\n",
      "108       Slowbro Mega Slowbro  Water Psychic    590\n",
      "687                 Carracosta     Water Rock    495\n",
      "489                   Empoleon    Water Steel    530\n",
      "\n",
      "[221 rows x 3 columns]\n"
     ]
    }
   ],
   "source": [
    "# Find the strongest Pokémon of each type based on 'Total' stats\n",
    "\n",
    "strongest_pokemon = df.loc[df.groupby('Type')['Total'].idxmax()]\n",
    "print(\"Strongest Pokémon of each type:\")\n",
    "print(strongest_pokemon[['Name', 'Type', 'Total']])"
   ]
  },
  {
   "cell_type": "markdown",
   "id": "21c71af8-b432-41f4-a0da-af814832feea",
   "metadata": {},
   "source": [
    "### Best Attackers"
   ]
  },
  {
   "cell_type": "code",
   "execution_count": 19,
   "id": "d230a9a6-5654-42db-a63b-19dda40f6b8a",
   "metadata": {},
   "outputs": [
    {
     "name": "stdout",
     "output_type": "stream",
     "text": [
      "Top 10 Pokémon by Attack:\n",
      "                         Name  Attack              Type\n",
      "201      Mewtwo Mega Mewtwo X     190  Psychic Fighting\n",
      "274  Heracross Mega Heracross     185      Bug Fighting\n",
      "956                   Kartana     181       Grass Steel\n",
      "473    Groudon Primal Groudon     180       Ground Fire\n",
      "475    Rayquaza Mega Rayquaza     180     Dragon Flying\n",
      "478       Deoxys Attack Forme     180           Psychic\n",
      "545    Garchomp Mega Garchomp     170     Dragon Ground\n",
      "777       Kyurem Black Kyurem     170        Dragon Ice\n",
      "961   Necrozma Ultra Necrozma     167    Psychic Dragon\n",
      "436      Banette Mega Banette     165             Ghost\n"
     ]
    }
   ],
   "source": [
    "# Find the Pokémon with the highest Attack stats\n",
    "\n",
    "best_attackers = df.nlargest(10, 'Attack')[['Name', 'Attack', 'Type']]\n",
    "print(\"Top 10 Pokémon by Attack:\")\n",
    "print(best_attackers)"
   ]
  },
  {
   "cell_type": "markdown",
   "id": "e60fcfdc-15a4-43b5-a48f-abf118006f7f",
   "metadata": {},
   "source": [
    "### Averages of Stats for Each Type"
   ]
  },
  {
   "cell_type": "code",
   "execution_count": 44,
   "id": "69af3217-2499-45ae-b1ef-87a8c53b3198",
   "metadata": {},
   "outputs": [
    {
     "name": "stdout",
     "output_type": "stream",
     "text": [
      "Average stats for each primary type:\n",
      "                    Total         HP      Attack     Defense     Sp. Atk  \\\n",
      "Type                                                                       \n",
      "Bug            280.280000  48.920000   48.480000   54.960000   37.560000   \n",
      "Bug Dark       450.000000  71.000000  102.000000   78.000000   52.000000   \n",
      "Bug Electric   422.750000  63.500000   69.000000   73.750000   88.500000   \n",
      "Bug Fairy      384.000000  50.000000   50.000000   50.000000   75.000000   \n",
      "Bug Fighting   562.000000  84.600000  144.200000   89.000000   71.000000   \n",
      "...                   ...        ...         ...         ...         ...   \n",
      "Water Ice      510.000000  90.000000   85.000000  110.000000   80.000000   \n",
      "Water Poison   430.000000  61.666667   68.333333   61.666667   61.666667   \n",
      "Water Psychic  479.714286  84.714286   81.714286   94.714286   88.285714   \n",
      "Water Rock     446.000000  76.600000   89.200000  110.200000   58.800000   \n",
      "Water Steel    530.000000  84.000000   86.000000   88.000000  111.000000   \n",
      "\n",
      "                  Sp. Def       Speed  \n",
      "Type                                   \n",
      "Bug             46.040000   44.320000  \n",
      "Bug Dark        55.000000   92.000000  \n",
      "Bug Electric    65.000000   63.000000  \n",
      "Bug Fairy       55.000000  104.000000  \n",
      "Bug Fighting    79.000000   94.200000  \n",
      "...                   ...         ...  \n",
      "Water Ice       81.250000   63.750000  \n",
      "Water Poison    91.666667   85.000000  \n",
      "Water Psychic   75.714286   54.571429  \n",
      "Water Rock      67.600000   43.600000  \n",
      "Water Steel    101.000000   60.000000  \n",
      "\n",
      "[221 rows x 7 columns]\n"
     ]
    }
   ],
   "source": [
    "# Calculate average stats for each primary type (ensure column name matches)\n",
    "\n",
    "type_averages = df.groupby('Type').mean(numeric_only=True)[numeric_columns]\n",
    "print(\"Average stats for each primary type:\")\n",
    "print(type_averages)"
   ]
  },
  {
   "cell_type": "markdown",
   "id": "9165ae87-03e3-4d9d-9fd7-bc4ef77a5271",
   "metadata": {},
   "source": [
    "###  Fastest Pokemon"
   ]
  },
  {
   "cell_type": "code",
   "execution_count": 27,
   "id": "a95c92c9-10ec-4a97-8c42-637410cdcc0e",
   "metadata": {},
   "outputs": [
    {
     "name": "stdout",
     "output_type": "stream",
     "text": [
      "Top 10 Fastest Pokémon:\n",
      "                             Name  Speed            Type\n",
      "1063                    Regieleki    200        Electric\n",
      "480            Deoxys Speed Forme    180         Psychic\n",
      "361                       Ninjask    160      Bug Flying\n",
      "953                     Pheromosa    151    Bug Fighting\n",
      "86         Alakazam Mega Alakazam    150         Psychic\n",
      "135                     Electrode    150        Electric\n",
      "136   Electrode Hisuian Electrode    150  Electric Grass\n",
      "189    Aerodactyl Mega Aerodactyl    150     Rock Flying\n",
      "477           Deoxys Normal Forme    150         Psychic\n",
      "478           Deoxys Attack Forme    150         Psychic\n"
     ]
    }
   ],
   "source": [
    "# Find the fastest Pokémon\n",
    "\n",
    "fastest_pokemon = df.nlargest(10, 'Speed')[['Name', 'Speed', 'Type']]\n",
    "print(\"Top 10 Fastest Pokémon:\")\n",
    "print(fastest_pokemon)"
   ]
  },
  {
   "cell_type": "markdown",
   "id": "859e3444-e319-4d02-b69b-3f98a94e9634",
   "metadata": {},
   "source": [
    "### Pokemon with the highest HP"
   ]
  },
  {
   "cell_type": "code",
   "execution_count": 34,
   "id": "7b35d234-94e7-4264-acbe-6662688bbcbd",
   "metadata": {},
   "outputs": [
    {
     "name": "stdout",
     "output_type": "stream",
     "text": [
      "Pokémon with the most HP:\n",
      "        Name   HP    Type\n",
      "305  Blissey  255  Normal\n"
     ]
    }
   ],
   "source": [
    "# Pokémon with the highest HP\n",
    "\n",
    "most_hp = df.nlargest(1, 'HP')[['Name', 'HP', 'Type']]\n",
    "print(\"Pokémon with the most HP:\")\n",
    "print(most_hp)"
   ]
  },
  {
   "cell_type": "markdown",
   "id": "2410e235-6aae-49f2-8ace-234b50697ef0",
   "metadata": {},
   "source": [
    "### Display Pokemon Sprites"
   ]
  },
  {
   "cell_type": "code",
   "execution_count": 31,
   "id": "74317157-cd84-4a49-87e8-6aa86b8792a5",
   "metadata": {},
   "outputs": [
    {
     "name": "stdout",
     "output_type": "stream",
     "text": [
      "Pinsir\n"
     ]
    },
    {
     "data": {
      "text/html": [
       "<img src=\"https://img.pokemondb.net/sprites/scarlet-violet/icon/pinsir.png\"/>"
      ],
      "text/plain": [
       "<IPython.core.display.Image object>"
      ]
     },
     "metadata": {},
     "output_type": "display_data"
    },
    {
     "name": "stdout",
     "output_type": "stream",
     "text": [
      "Lokix\n"
     ]
    },
    {
     "data": {
      "text/html": [
       "<img src=\"https://img.pokemondb.net/sprites/scarlet-violet/icon/lokix.png\"/>"
      ],
      "text/plain": [
       "<IPython.core.display.Image object>"
      ]
     },
     "metadata": {},
     "output_type": "display_data"
    },
    {
     "name": "stdout",
     "output_type": "stream",
     "text": [
      "Vikavolt\n"
     ]
    },
    {
     "data": {
      "text/html": [
       "<img src=\"https://img.pokemondb.net/sprites/scarlet-violet/icon/vikavolt.png\"/>"
      ],
      "text/plain": [
       "<IPython.core.display.Image object>"
      ]
     },
     "metadata": {},
     "output_type": "display_data"
    },
    {
     "name": "stdout",
     "output_type": "stream",
     "text": [
      "Ribombee\n"
     ]
    },
    {
     "data": {
      "text/html": [
       "<img src=\"https://img.pokemondb.net/sprites/scarlet-violet/icon/ribombee.png\"/>"
      ],
      "text/plain": [
       "<IPython.core.display.Image object>"
      ]
     },
     "metadata": {},
     "output_type": "display_data"
    },
    {
     "name": "stdout",
     "output_type": "stream",
     "text": [
      "Heracross Mega Heracross\n"
     ]
    },
    {
     "data": {
      "text/html": [
       "<img src=\"https://img.pokemondb.net/sprites/scarlet-violet/icon/heracross-mega.png\"/>"
      ],
      "text/plain": [
       "<IPython.core.display.Image object>"
      ]
     },
     "metadata": {},
     "output_type": "display_data"
    }
   ],
   "source": [
    "from IPython.display import Image, display\n",
    "\n",
    "# Display sprite images for the top 5 Pokémon by Total stats\n",
    "for _, row in strongest_pokemon.head(5).iterrows():\n",
    "    print(row['Name'])\n",
    "    display(Image(url=row['Sprite']))\n"
   ]
  },
  {
   "cell_type": "markdown",
   "id": "e1ae4bdc-e13b-428c-bab8-3f9fd887e497",
   "metadata": {},
   "source": [
    "## Pokedex Application with a graphical Interface using AI *(ChatGPT)*"
   ]
  },
  {
   "cell_type": "code",
   "execution_count": 62,
   "id": "0c666276-d5df-4bf0-8d85-a5629ad882a0",
   "metadata": {},
   "outputs": [
    {
     "data": {
      "text/html": [
       "\n",
       "        <iframe\n",
       "            width=\"100%\"\n",
       "            height=\"650\"\n",
       "            src=\"http://127.0.0.1:8050/\"\n",
       "            frameborder=\"0\"\n",
       "            allowfullscreen\n",
       "            \n",
       "        ></iframe>\n",
       "        "
      ],
      "text/plain": [
       "<IPython.lib.display.IFrame at 0x25d0a128140>"
      ]
     },
     "metadata": {},
     "output_type": "display_data"
    }
   ],
   "source": [
    "import pandas as pd\n",
    "import dash\n",
    "from dash import dcc, html, Input, Output\n",
    "import dash_bootstrap_components as dbc\n",
    "import requests\n",
    "from io import BytesIO\n",
    "from PIL import Image\n",
    "import base64\n",
    "\n",
    "# Load Pokémon dataset\n",
    "df = pd.read_csv(\"pokemon_dataset.csv\")  # Use your scraped dataset CSV\n",
    "\n",
    "# Create Dash app\n",
    "app = dash.Dash(__name__, external_stylesheets=[dbc.themes.BOOTSTRAP])\n",
    "app.title = \"Pokémon Viewer\"\n",
    "\n",
    "# Define app layout\n",
    "app.layout = html.Div([\n",
    "    html.H1(\"Pokémon Viewer\", style={'text-align': 'center'}),\n",
    "    \n",
    "    # Sorting and Filtering Options\n",
    "    html.Div([\n",
    "        html.Label(\"Sort by:\", style={'margin-right': '10px'}),\n",
    "        dcc.Dropdown(\n",
    "            id='sort-dropdown',\n",
    "            options=[{'label': col, 'value': col} for col in ['Attack', 'Defense', 'HP', 'Sp. Atk', 'Sp. Def', 'Speed']],\n",
    "            value='Attack',\n",
    "            style={'width': '200px', 'display': 'inline-block'}\n",
    "        ),\n",
    "        html.Button(\"Toggle Asc/Desc\", id='sort-order-button', n_clicks=0, style={'margin-left': '10px'}),\n",
    "        html.Label(\"Filter by Type:\", style={'margin-left': '20px', 'margin-right': '10px'}),\n",
    "        dcc.Dropdown(\n",
    "            id='type-dropdown',\n",
    "            options=[{'label': t, 'value': t} for t in sorted(df['Type'].unique())],\n",
    "            multi=True,\n",
    "            style={'width': '300px', 'display': 'inline-block'}\n",
    "        )\n",
    "    ], style={'margin': '20px'}),\n",
    "    \n",
    "    # Pokémon Cards\n",
    "    html.Div(id='pokemon-cards', className='d-flex flex-wrap justify-content-center'),\n",
    "    \n",
    "    # Footer\n",
    "    html.Div(\"Built with Dash and Pokémon Data\", style={'text-align': 'center', 'margin-top': '20px', 'font-size': '12px'})\n",
    "])\n",
    "\n",
    "# Helper function to encode image URLs as base64\n",
    "def fetch_image_as_base64(url):\n",
    "    response = requests.get(url)\n",
    "    img = Image.open(BytesIO(response.content))\n",
    "    buffer = BytesIO()\n",
    "    img.save(buffer, format=\"PNG\")\n",
    "    buffer.seek(0)\n",
    "    return base64.b64encode(buffer.read()).decode()\n",
    "\n",
    "# Callback to update Pokémon cards\n",
    "@app.callback(\n",
    "    Output('pokemon-cards', 'children'),\n",
    "    Input('sort-dropdown', 'value'),\n",
    "    Input('sort-order-button', 'n_clicks'),\n",
    "    Input('type-dropdown', 'value')\n",
    ")\n",
    "def update_pokemon_cards(sort_by, sort_order_clicks, selected_types):\n",
    "    # Sort the DataFrame\n",
    "    ascending = (sort_order_clicks % 2 == 0)\n",
    "    sorted_df = df.sort_values(by=sort_by, ascending=ascending)\n",
    "\n",
    "    # Filter by Type\n",
    "    if selected_types:\n",
    "        sorted_df = sorted_df[sorted_df['Type'].isin(selected_types)]\n",
    "\n",
    "    # Generate Pokémon cards\n",
    "    cards = []\n",
    "    for _, row in sorted_df.iterrows():\n",
    "        # Fetch image\n",
    "        sprite_base64 = fetch_image_as_base64(row['Sprite'])\n",
    "\n",
    "        # Create a card for each Pokémon\n",
    "        card = dbc.Card(\n",
    "            [\n",
    "                dbc.CardImg(src=f\"data:image/png;base64,{sprite_base64}\", top=True, style={'height': '120px'}),\n",
    "                dbc.CardBody([\n",
    "                    html.H5(f\"#{row['#']} {row['Name']}\", className='card-title'),\n",
    "                    html.Div([\n",
    "                        html.Div([html.Span(f\"{stat}: \", style={'font-weight': 'bold'}), row[stat]], \n",
    "                                 style={'margin-bottom': '5px'})\n",
    "                        for stat in ['HP', 'Attack', 'Defense', 'Sp. Atk', 'Sp. Def', 'Speed']\n",
    "                    ], style={'font-size': '12px'}),\n",
    "                ])\n",
    "            ],\n",
    "            style={'width': '200px', 'margin': '10px'}\n",
    "        )\n",
    "        cards.append(card)\n",
    "\n",
    "    return cards\n",
    "\n",
    "# Run the app\n",
    "if __name__ == \"__main__\":\n",
    "    app.run_server(debug=True)"
   ]
  }
 ],
 "metadata": {
  "kernelspec": {
   "display_name": "Python [conda env:base] *",
   "language": "python",
   "name": "conda-base-py"
  },
  "language_info": {
   "codemirror_mode": {
    "name": "ipython",
    "version": 3
   },
   "file_extension": ".py",
   "mimetype": "text/x-python",
   "name": "python",
   "nbconvert_exporter": "python",
   "pygments_lexer": "ipython3",
   "version": "3.12.7"
  }
 },
 "nbformat": 4,
 "nbformat_minor": 5
}

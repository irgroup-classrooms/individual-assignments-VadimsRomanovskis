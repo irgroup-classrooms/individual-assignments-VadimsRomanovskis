{
 "cells": [
  {
   "cell_type": "markdown",
   "metadata": {},
   "source": [
    "# DIS08 / OR92 Data Modeling: Python - Introduction (Setup, file management, etc.)"
   ]
  },
  {
   "cell_type": "markdown",
   "metadata": {},
   "source": [
    "In this lecture, we’ll cover and recap the basics of Python programming, including:\n",
    "\n",
    "- Python data structures: lists, tuples, dictionaries, and sets.\n",
    "- Basic file management: reading from and writing to files.\n",
    "- String handling: manipulation of text data and regular expressions.\n",
    "\n",
    "In the lab assignments, you will setup your Python development environment, rerun this notebook, and get started with the `pandas` library.\n",
    "\n",
    "If you would like to study Python more in-depth, we recommend the book [Automate the Boring Stuff With Python](https://automatetheboringstuff.com/). This book also inspired some of the contents in this notebook."
   ]
  },
  {
   "cell_type": "markdown",
   "metadata": {},
   "source": [
    "1. Basic Syntax"
   ]
  },
  {
   "cell_type": "code",
   "execution_count": null,
   "metadata": {},
   "outputs": [],
   "source": [
    "# This is a comment in Python"
   ]
  },
  {
   "cell_type": "code",
   "execution_count": 1,
   "metadata": {},
   "outputs": [
    {
     "name": "stdout",
     "output_type": "stream",
     "text": [
      "Hello, World!\n"
     ]
    }
   ],
   "source": [
    "# Print \"Hello, World!\" to the console\n",
    "print(\"Hello, World!\")  "
   ]
  },
  {
   "cell_type": "code",
   "execution_count": 2,
   "metadata": {},
   "outputs": [
    {
     "data": {
      "text/plain": [
       "5"
      ]
     },
     "execution_count": 2,
     "metadata": {},
     "output_type": "execute_result"
    }
   ],
   "source": [
    "# Variable assignment\n",
    "x = 5  \n",
    "x"
   ]
  },
  {
   "cell_type": "markdown",
   "metadata": {},
   "source": [
    "2. Data Types"
   ]
  },
  {
   "cell_type": "code",
   "execution_count": 3,
   "metadata": {},
   "outputs": [
    {
     "data": {
      "text/plain": [
       "int"
      ]
     },
     "execution_count": 3,
     "metadata": {},
     "output_type": "execute_result"
    }
   ],
   "source": [
    "# Integer type\n",
    "integer_num = 10\n",
    "type(integer_num)"
   ]
  },
  {
   "cell_type": "code",
   "execution_count": 4,
   "metadata": {},
   "outputs": [
    {
     "data": {
      "text/plain": [
       "float"
      ]
     },
     "execution_count": 4,
     "metadata": {},
     "output_type": "execute_result"
    }
   ],
   "source": [
    "# Float type\n",
    "float_num = 3.14\n",
    "type(float_num)"
   ]
  },
  {
   "cell_type": "code",
   "execution_count": 5,
   "metadata": {},
   "outputs": [
    {
     "data": {
      "text/plain": [
       "str"
      ]
     },
     "execution_count": 5,
     "metadata": {},
     "output_type": "execute_result"
    }
   ],
   "source": [
    "# String type\n",
    "str_val = \"Python\"\n",
    "type(str_val)"
   ]
  },
  {
   "cell_type": "markdown",
   "metadata": {},
   "source": [
    "3. Basic Operators"
   ]
  },
  {
   "cell_type": "code",
   "execution_count": 6,
   "metadata": {},
   "outputs": [],
   "source": [
    "a = 10\n",
    "b = 3"
   ]
  },
  {
   "cell_type": "code",
   "execution_count": 7,
   "metadata": {},
   "outputs": [
    {
     "name": "stdout",
     "output_type": "stream",
     "text": [
      "13\n"
     ]
    }
   ],
   "source": [
    "# Addition\n",
    "print(a + b)"
   ]
  },
  {
   "cell_type": "code",
   "execution_count": 8,
   "metadata": {},
   "outputs": [
    {
     "name": "stdout",
     "output_type": "stream",
     "text": [
      "7\n"
     ]
    }
   ],
   "source": [
    "# Subtraction\n",
    "print(a - b)"
   ]
  },
  {
   "cell_type": "code",
   "execution_count": 9,
   "metadata": {},
   "outputs": [
    {
     "name": "stdout",
     "output_type": "stream",
     "text": [
      "30\n"
     ]
    }
   ],
   "source": [
    "# Multiplication\n",
    "print(a * b)"
   ]
  },
  {
   "cell_type": "code",
   "execution_count": 10,
   "metadata": {},
   "outputs": [
    {
     "name": "stdout",
     "output_type": "stream",
     "text": [
      "3.3333333333333335\n"
     ]
    }
   ],
   "source": [
    "# Division\n",
    "print(a / b)"
   ]
  },
  {
   "cell_type": "code",
   "execution_count": 11,
   "metadata": {},
   "outputs": [
    {
     "name": "stdout",
     "output_type": "stream",
     "text": [
      "1\n"
     ]
    }
   ],
   "source": [
    "# Modulus (remainder)\n",
    "print(a % b)"
   ]
  },
  {
   "cell_type": "code",
   "execution_count": 12,
   "metadata": {},
   "outputs": [
    {
     "name": "stdout",
     "output_type": "stream",
     "text": [
      "1000\n"
     ]
    }
   ],
   "source": [
    "# Exponentiation\n",
    "print(a ** b)"
   ]
  },
  {
   "cell_type": "markdown",
   "metadata": {},
   "source": [
    "4. Control Structures"
   ]
  },
  {
   "cell_type": "code",
   "execution_count": 13,
   "metadata": {},
   "outputs": [
    {
     "name": "stdout",
     "output_type": "stream",
     "text": [
      "Positive\n"
     ]
    }
   ],
   "source": [
    "# If-Else statement\n",
    "x = 5\n",
    "if x > 0:\n",
    "    print(\"Positive\")\n",
    "elif x < 0:\n",
    "    print(\"Negative\")\n",
    "else:\n",
    "    print(\"Zero\")\n"
   ]
  },
  {
   "cell_type": "code",
   "execution_count": 14,
   "metadata": {},
   "outputs": [
    {
     "name": "stdout",
     "output_type": "stream",
     "text": [
      "0\n",
      "1\n",
      "2\n",
      "3\n",
      "4\n"
     ]
    }
   ],
   "source": [
    "# For loop\n",
    "for i in range(5):\n",
    "    print(i)"
   ]
  },
  {
   "cell_type": "code",
   "execution_count": 15,
   "metadata": {},
   "outputs": [
    {
     "name": "stdout",
     "output_type": "stream",
     "text": [
      "0\n",
      "1\n",
      "2\n",
      "3\n",
      "4\n"
     ]
    }
   ],
   "source": [
    "# While loop\n",
    "i = 0\n",
    "while i < 5:\n",
    "    print(i)\n",
    "    i += 1"
   ]
  },
  {
   "cell_type": "markdown",
   "metadata": {},
   "source": [
    "## Data Structures"
   ]
  },
  {
   "cell_type": "code",
   "execution_count": 16,
   "metadata": {},
   "outputs": [
    {
     "name": "stdout",
     "output_type": "stream",
     "text": [
      "1\n",
      "6\n",
      "John\n",
      "{'banana', 'apple', 'cherry'}\n"
     ]
    }
   ],
   "source": [
    "# List\n",
    "my_list = [1, 2, 3, 4, 5]\n",
    "print(my_list[0])  # Accessing elements\n",
    "\n",
    "# Tuple (immutable list)\n",
    "my_tuple = (6, 7, 8)\n",
    "print(my_tuple[0])\n",
    "\n",
    "# Dictionary (key-value pairs)\n",
    "my_dict = {\"name\": \"John\", \"age\": 30, \"city\": \"New York\"}\n",
    "print(my_dict[\"name\"])\n",
    "\n",
    "# Set\n",
    "my_set = {\"apple\", \"banana\", \"cherry\"}\n",
    "print(my_set)\n",
    "\n"
   ]
  },
  {
   "cell_type": "markdown",
   "metadata": {},
   "source": [
    "A list is a collection which is ordered and changeable. It allows duplicate members."
   ]
  },
  {
   "cell_type": "code",
   "execution_count": 17,
   "metadata": {},
   "outputs": [
    {
     "name": "stdout",
     "output_type": "stream",
     "text": [
      "['apple', 'banana', 'cherry']\n",
      "['apple', 'banana', 'cherry', 'orange']\n",
      "banana\n",
      "['apple', 'cherry', 'orange']\n"
     ]
    }
   ],
   "source": [
    "# Creating a list\n",
    "fruits = [\"apple\", \"banana\", \"cherry\"]\n",
    "print(fruits)\n",
    "\n",
    "# Adding an item\n",
    "fruits.append(\"orange\")\n",
    "print(fruits)\n",
    "\n",
    "# Accessing items\n",
    "print(fruits[1])\n",
    "\n",
    "# Removing an item\n",
    "fruits.remove(\"banana\")\n",
    "print(fruits)"
   ]
  },
  {
   "cell_type": "markdown",
   "metadata": {},
   "source": [
    "A tuple is a collection which is ordered but unchangeable (immutable). It allows duplicate members."
   ]
  },
  {
   "cell_type": "code",
   "execution_count": 18,
   "metadata": {},
   "outputs": [
    {
     "name": "stdout",
     "output_type": "stream",
     "text": [
      "('apple', 'banana', 'cherry')\n",
      "banana\n"
     ]
    }
   ],
   "source": [
    "# Creating a tuple\n",
    "my_tuple = (\"apple\", \"banana\", \"cherry\")\n",
    "print(my_tuple)\n",
    "\n",
    "# Accessing items\n",
    "print(my_tuple[1])\n",
    "\n",
    "# Tuples are immutable, so the following code will cause an error:\n",
    "# my_tuple[1] = \"orange\""
   ]
  },
  {
   "cell_type": "markdown",
   "metadata": {},
   "source": [
    "A dictionary is a collection which is unordered, changeable, and indexed. It does not allow duplicates."
   ]
  },
  {
   "cell_type": "code",
   "execution_count": 19,
   "metadata": {},
   "outputs": [
    {
     "name": "stdout",
     "output_type": "stream",
     "text": [
      "{'name': 'Alice', 'age': 25, 'city': 'New York'}\n",
      "Alice\n",
      "{'name': 'Alice', 'age': 26, 'city': 'New York'}\n"
     ]
    }
   ],
   "source": [
    "# Creating a dictionary\n",
    "person = {\n",
    "    \"name\": \"Alice\",\n",
    "    \"age\": 25,\n",
    "    \"city\": \"New York\"\n",
    "}\n",
    "print(person)\n",
    "\n",
    "# Accessing values\n",
    "print(person[\"name\"])\n",
    "\n",
    "# Modifying a value\n",
    "person[\"age\"] = 26\n",
    "print(person)"
   ]
  },
  {
   "cell_type": "markdown",
   "metadata": {},
   "source": [
    "6. Functions"
   ]
  },
  {
   "cell_type": "code",
   "execution_count": 20,
   "metadata": {},
   "outputs": [
    {
     "name": "stdout",
     "output_type": "stream",
     "text": [
      "Hello, Alice!\n"
     ]
    }
   ],
   "source": [
    "def greet(name):\n",
    "    \"\"\"This function greets the person passed in as parameter\"\"\"\n",
    "    print(f\"Hello, {name}!\")\n",
    "\n",
    "greet(\"Alice\")  # Output: Hello, Alice!"
   ]
  },
  {
   "cell_type": "markdown",
   "metadata": {},
   "source": [
    "A set is a collection which is unordered, unindexed, and does not allow duplicate members."
   ]
  },
  {
   "cell_type": "code",
   "execution_count": 21,
   "metadata": {},
   "outputs": [
    {
     "name": "stdout",
     "output_type": "stream",
     "text": [
      "{'banana', 'apple', 'cherry'}\n",
      "{'banana', 'apple', 'cherry', 'orange'}\n",
      "{'apple', 'cherry', 'orange'}\n"
     ]
    }
   ],
   "source": [
    "# Creating a set\n",
    "my_set = {\"apple\", \"banana\", \"cherry\"}\n",
    "print(my_set)\n",
    "\n",
    "# Adding an item\n",
    "my_set.add(\"orange\")\n",
    "print(my_set)\n",
    "\n",
    "# Removing an item\n",
    "my_set.remove(\"banana\")\n",
    "print(my_set)"
   ]
  },
  {
   "cell_type": "markdown",
   "metadata": {},
   "source": [
    "## Basic File Management in Python"
   ]
  },
  {
   "cell_type": "markdown",
   "metadata": {},
   "source": [
    "You can also use many command line tools in a Jupyter notebook. We use `echo` to create a first text file."
   ]
  },
  {
   "cell_type": "code",
   "execution_count": 22,
   "metadata": {},
   "outputs": [],
   "source": [
    "!echo \"This is the beginning of a new file!\\n\" >> example.txt"
   ]
  },
  {
   "cell_type": "markdown",
   "metadata": {},
   "source": [
    "To read a file, use the open() function in reading mode ('r')."
   ]
  },
  {
   "cell_type": "code",
   "execution_count": 23,
   "metadata": {},
   "outputs": [
    {
     "name": "stdout",
     "output_type": "stream",
     "text": [
      "\"This is the beginning of a new file!\\n\" \n",
      "\n"
     ]
    }
   ],
   "source": [
    "# Reading from a file\n",
    "file = open(\"example.txt\", \"r\")\n",
    "\n",
    "# Read the entire content of the file\n",
    "content = file.read()\n",
    "print(content)\n",
    "\n",
    "# Always remember to close the file after you're done\n",
    "file.close()"
   ]
  },
  {
   "cell_type": "markdown",
   "metadata": {},
   "source": [
    "To write to a file, use the open() function in write mode ('w')."
   ]
  },
  {
   "cell_type": "code",
   "execution_count": 24,
   "metadata": {},
   "outputs": [],
   "source": [
    "# Writing to a file\n",
    "file = open(\"example.txt\", \"w\")\n",
    "file.write(\"Hello, World!\\nThis is a new line.\")\n",
    "file.close()"
   ]
  },
  {
   "cell_type": "markdown",
   "metadata": {},
   "source": [
    "You can also append data to an existing file using append mode ('a')."
   ]
  },
  {
   "cell_type": "code",
   "execution_count": 25,
   "metadata": {},
   "outputs": [],
   "source": [
    "# Appending to a file\n",
    "file = open(\"example.txt\", \"a\")\n",
    "file.write(\"\\nThis is an appended line.\")\n",
    "file.close()"
   ]
  },
  {
   "cell_type": "markdown",
   "metadata": {},
   "source": [
    "It’s a good practice to use the `with` statement when working with files to ensure the file is properly closed after the operations."
   ]
  },
  {
   "cell_type": "code",
   "execution_count": 26,
   "metadata": {},
   "outputs": [
    {
     "name": "stdout",
     "output_type": "stream",
     "text": [
      "Hello, World!\n",
      "This is a new line.\n",
      "This is an appended line.\n"
     ]
    }
   ],
   "source": [
    "# Using 'with' statement to open and read a file\n",
    "with open(\"example.txt\", \"r\") as file:\n",
    "    content = file.read()\n",
    "    print(content)"
   ]
  },
  {
   "cell_type": "markdown",
   "metadata": {},
   "source": [
    "## String Handling in Python"
   ]
  },
  {
   "cell_type": "markdown",
   "metadata": {},
   "source": [
    "Python provides a variety of methods for manipulating and handling strings."
   ]
  },
  {
   "cell_type": "code",
   "execution_count": 27,
   "metadata": {},
   "outputs": [
    {
     "name": "stdout",
     "output_type": "stream",
     "text": [
      "Hello, Alice!\n"
     ]
    }
   ],
   "source": [
    "# Concatenating strings\n",
    "greeting = \"Hello\"\n",
    "name = \"Alice\"\n",
    "message = greeting + \", \" + name + \"!\"\n",
    "print(message)"
   ]
  },
  {
   "cell_type": "markdown",
   "metadata": {},
   "source": [
    "**String Formatting:** You can format strings using the format() method or f-strings (in Python 3.6+)."
   ]
  },
  {
   "cell_type": "code",
   "execution_count": 28,
   "metadata": {},
   "outputs": [
    {
     "name": "stdout",
     "output_type": "stream",
     "text": [
      "Hello, Alice!\n",
      "Hello, Alice!\n"
     ]
    }
   ],
   "source": [
    "# Using format method\n",
    "message = \"Hello, {}!\".format(name)\n",
    "print(message)\n",
    "\n",
    "# Using f-strings (Python 3.6+)\n",
    "message = f\"Hello, {name}!\"\n",
    "print(message)"
   ]
  },
  {
   "cell_type": "markdown",
   "metadata": {},
   "source": [
    "**String Methods:** Some common string methods in Python include upper(), lower(), replace(), and split()."
   ]
  },
  {
   "cell_type": "code",
   "execution_count": 29,
   "metadata": {},
   "outputs": [
    {
     "name": "stdout",
     "output_type": "stream",
     "text": [
      "HELLO, WORLD!\n",
      "hello, world!\n",
      "Hello, Python!\n",
      "['Hello', 'World!']\n"
     ]
    }
   ],
   "source": [
    "# Changing case\n",
    "text = \"Hello, World!\"\n",
    "print(text.upper())\n",
    "print(text.lower())\n",
    "\n",
    "# Replacing parts of a string\n",
    "print(text.replace(\"World\", \"Python\"))\n",
    "\n",
    "# Splitting a string\n",
    "words = text.split(\", \")\n",
    "print(words)"
   ]
  },
  {
   "cell_type": "markdown",
   "metadata": {},
   "source": [
    "**Regular expressions:** The re.search() function searches for a match in a string."
   ]
  },
  {
   "cell_type": "code",
   "execution_count": 30,
   "metadata": {},
   "outputs": [
    {
     "name": "stdout",
     "output_type": "stream",
     "text": [
      "Match found!\n"
     ]
    }
   ],
   "source": [
    "import re\n",
    "\n",
    "# Search for the word 'Python' in a string\n",
    "text = \"Welcome to Python programming!\"\n",
    "pattern = \"Python\"\n",
    "\n",
    "# Search for the pattern\n",
    "match = re.search(pattern, text)\n",
    "\n",
    "# The re.search() function looks for the word “Python” in the text. If found, it returns a match object, otherwise None.\n",
    "if match:\n",
    "    print(\"Match found!\")\n",
    "else:\n",
    "    print(\"No match.\")"
   ]
  },
  {
   "cell_type": "markdown",
   "metadata": {},
   "source": [
    "## Quiz time!"
   ]
  },
  {
   "cell_type": "markdown",
   "metadata": {},
   "source": [
    "**Question:** What will be the output of the following code?"
   ]
  },
  {
   "cell_type": "code",
   "execution_count": 31,
   "metadata": {},
   "outputs": [
    {
     "name": "stdout",
     "output_type": "stream",
     "text": [
      "banana\n"
     ]
    }
   ],
   "source": [
    "fruits = [\"apple\", \"banana\", \"cherry\"]\n",
    "fruits.append(\"orange\")\n",
    "print(fruits[1])"
   ]
  },
  {
   "cell_type": "markdown",
   "metadata": {},
   "source": [
    "A) \"apple\"  \n",
    "B) \"banana\"  \n",
    "C) \"cherry\"  \n",
    "D) [\"apple\", \"banana\", \"cherry\", \"orange\"]"
   ]
  },
  {
   "cell_type": "markdown",
   "metadata": {},
   "source": [
    "**Question:** What error will the following code produce?"
   ]
  },
  {
   "cell_type": "code",
   "execution_count": 32,
   "metadata": {},
   "outputs": [
    {
     "ename": "TypeError",
     "evalue": "'tuple' object does not support item assignment",
     "output_type": "error",
     "traceback": [
      "\u001b[1;31m---------------------------------------------------------------------------\u001b[0m",
      "\u001b[1;31mTypeError\u001b[0m                                 Traceback (most recent call last)",
      "\u001b[1;32m~\\AppData\\Local\\Temp\\ipykernel_9024\\224675844.py\u001b[0m in \u001b[0;36m<module>\u001b[1;34m\u001b[0m\n\u001b[0;32m      1\u001b[0m \u001b[0mcolors\u001b[0m \u001b[1;33m=\u001b[0m \u001b[1;33m(\u001b[0m\u001b[1;34m\"red\"\u001b[0m\u001b[1;33m,\u001b[0m \u001b[1;34m\"green\"\u001b[0m\u001b[1;33m,\u001b[0m \u001b[1;34m\"blue\"\u001b[0m\u001b[1;33m)\u001b[0m\u001b[1;33m\u001b[0m\u001b[1;33m\u001b[0m\u001b[0m\n\u001b[1;32m----> 2\u001b[1;33m \u001b[0mcolors\u001b[0m\u001b[1;33m[\u001b[0m\u001b[1;36m1\u001b[0m\u001b[1;33m]\u001b[0m \u001b[1;33m=\u001b[0m \u001b[1;34m\"yellow\"\u001b[0m\u001b[1;33m\u001b[0m\u001b[1;33m\u001b[0m\u001b[0m\n\u001b[0m",
      "\u001b[1;31mTypeError\u001b[0m: 'tuple' object does not support item assignment"
     ]
    }
   ],
   "source": [
    "colors = (\"red\", \"green\", \"blue\")\n",
    "colors[1] = \"yellow\""
   ]
  },
  {
   "cell_type": "markdown",
   "metadata": {},
   "source": [
    "A) TypeError: 'tuple' object does not support item assignment  \n",
    "B) IndexError: tuple index out of range  \n",
    "C) No error, it works fine  \n",
    "D) AttributeError: 'tuple' object has no attribute 'append'"
   ]
  },
  {
   "cell_type": "markdown",
   "metadata": {},
   "source": [
    "**Question:** What will be the value of car[\"year\"] after running the following code?"
   ]
  },
  {
   "cell_type": "code",
   "execution_count": 33,
   "metadata": {},
   "outputs": [
    {
     "name": "stdout",
     "output_type": "stream",
     "text": [
      "2022\n"
     ]
    }
   ],
   "source": [
    "car = {\n",
    "    \"brand\": \"Ford\",\n",
    "    \"model\": \"Mustang\",\n",
    "    \"year\": 1964\n",
    "}\n",
    "car[\"year\"] = 2022\n",
    "print(car[\"year\"])"
   ]
  },
  {
   "cell_type": "markdown",
   "metadata": {},
   "source": [
    "A) 1964  \n",
    "B) 2022  \n",
    "C) None  \n",
    "D) KeyError: 'year'"
   ]
  },
  {
   "cell_type": "markdown",
   "metadata": {},
   "source": [
    "**Question:** What will happen if the following code is executed, and example.txt doesn’t exist in the directory?"
   ]
  },
  {
   "cell_type": "code",
   "execution_count": 34,
   "metadata": {},
   "outputs": [
    {
     "name": "stdout",
     "output_type": "stream",
     "text": [
      "Hello, World!\n",
      "This is a new line.\n",
      "This is an appended line.\n"
     ]
    }
   ],
   "source": [
    "with open(\"example.txt\", \"r\") as file:\n",
    "    content = file.read()\n",
    "    print(content)"
   ]
  },
  {
   "cell_type": "markdown",
   "metadata": {},
   "source": [
    "A) It will create a new file named example.txt.  \n",
    "B) It will throw a FileNotFoundError.  \n",
    "C) It will print an empty string.  \n",
    "D) It will print None.  "
   ]
  },
  {
   "cell_type": "markdown",
   "metadata": {},
   "source": [
    "**Question:** What will be the value of message in the following code?"
   ]
  },
  {
   "cell_type": "code",
   "execution_count": 35,
   "metadata": {},
   "outputs": [
    {
     "name": "stdout",
     "output_type": "stream",
     "text": [
      "Hello, Alice!\n"
     ]
    }
   ],
   "source": [
    "name = \"Alice\"\n",
    "greeting = \"Hello\"\n",
    "message = greeting + \", \" + name + \"!\"\n",
    "print(message)"
   ]
  },
  {
   "cell_type": "markdown",
   "metadata": {},
   "source": [
    "A) \"Hello Alice\"  \n",
    "B) \"Hello, Alice!\"  \n",
    "C) \"Hello Alice!\"  \n",
    "D) \", Alice!\""
   ]
  },
  {
   "cell_type": "markdown",
   "metadata": {},
   "source": [
    "**Question:** What will the following code output?"
   ]
  },
  {
   "cell_type": "code",
   "execution_count": 36,
   "metadata": {},
   "outputs": [
    {
     "name": "stdout",
     "output_type": "stream",
     "text": [
      "WELCOME TO PYTHON\n"
     ]
    }
   ],
   "source": [
    "text = \"Welcome to Python\"\n",
    "print(text.upper())"
   ]
  },
  {
   "cell_type": "markdown",
   "metadata": {},
   "source": [
    "A) WELCOME TO PYTHON  \n",
    "B) welcome to python  \n",
    "C) Welcome To Python  \n",
    "D) Welcome to python"
   ]
  },
  {
   "cell_type": "markdown",
   "metadata": {},
   "source": [
    "**Question:** What happens if you try to add a duplicate item to a set?"
   ]
  },
  {
   "cell_type": "code",
   "execution_count": 37,
   "metadata": {},
   "outputs": [
    {
     "name": "stdout",
     "output_type": "stream",
     "text": [
      "{'banana', 'apple', 'cherry'}\n"
     ]
    }
   ],
   "source": [
    "my_set = {\"apple\", \"banana\", \"cherry\"}\n",
    "my_set.add(\"banana\")\n",
    "print(my_set)"
   ]
  },
  {
   "cell_type": "markdown",
   "metadata": {},
   "source": [
    "A) The set will now contain two \"banana\" items.  \n",
    "B) The set will raise an error.  \n",
    "C) The set will remain unchanged.   \n",
    "D) The set will reorder itself."
   ]
  },
  {
   "cell_type": "markdown",
   "metadata": {},
   "source": [
    "**Question:** What is the correct way to format a string using f-strings in the following code?"
   ]
  },
  {
   "cell_type": "code",
   "execution_count": 38,
   "metadata": {},
   "outputs": [
    {
     "name": "stdout",
     "output_type": "stream",
     "text": [
      "My name is ... and I am ... years old.\n"
     ]
    }
   ],
   "source": [
    "name = \"Alice\"\n",
    "age = 25\n",
    "message = f\"My name is ... and I am ... years old.\"\n",
    "print(message)"
   ]
  },
  {
   "cell_type": "markdown",
   "metadata": {},
   "source": [
    "A) f\"My name is {name} and I am {age} years old.\"  \n",
    "B) f\"My name is name and I am age years old.\"  \n",
    "C) \"My name is {name} and I am {age} years old.\"  \n",
    "D) \"My name is name and I am age years old.\""
   ]
  },
  {
   "cell_type": "markdown",
   "metadata": {},
   "source": [
    "**Question:** What will be the output of the following code?"
   ]
  },
  {
   "cell_type": "code",
   "execution_count": 39,
   "metadata": {},
   "outputs": [
    {
     "name": "stdout",
     "output_type": "stream",
     "text": [
      "40\n"
     ]
    }
   ],
   "source": [
    "numbers = [10, 20, 30, 40, 50]\n",
    "print(numbers[-2])"
   ]
  },
  {
   "cell_type": "markdown",
   "metadata": {},
   "source": [
    "A) 20  \n",
    "B) 40  \n",
    "C) 30  \n",
    "D) 50\n"
   ]
  },
  {
   "cell_type": "markdown",
   "metadata": {},
   "source": [
    "**Question:** What will the following code output?"
   ]
  },
  {
   "cell_type": "code",
   "execution_count": 40,
   "metadata": {},
   "outputs": [
    {
     "name": "stdout",
     "output_type": "stream",
     "text": [
      "False\n"
     ]
    }
   ],
   "source": [
    "person = {\n",
    "    \"name\": \"John\",\n",
    "    \"age\": 30\n",
    "}\n",
    "print(\"height\" in person)"
   ]
  },
  {
   "cell_type": "markdown",
   "metadata": {},
   "source": [
    "A) True  \n",
    "B) False  \n",
    "C) None  \n",
    "D) KeyError: 'height'"
   ]
  },
  {
   "cell_type": "markdown",
   "metadata": {},
   "source": [
    "## Lab Assignments\n",
    "\n",
    "Download this notebook from Moodle and rerun the examples from today's lecture. If you can execute all of the code cells above you are done! The setup guide below will help you to get started!\n",
    "\n",
    "Once, you have setup your Python/Jupyter environment, please do the following task:\n",
    "\n",
    "- Download this [dataset](https://librarycarpentry.org/lc-python-intro/files/data.zip) and extract it (do not commit it to this repository).\n",
    "- Get familiar with the [pandas](https://pandas.pydata.org/) library and install it in your Python environment.\n",
    "- Load one or more of the CSV files in the data/ directory as a DataFrame.\n",
    "- Use the functions `info()`, `head()`, `tail()`, `describe()`, and the variable `columns` to get some basic information about the data. Also document and describe the outputs.\n",
    "- How do you get the first/last ten rows of the DataFrame?\n",
    "- How do you get the rows between row 30 and row 40?\n",
    "- How do you get a specific column, e.g., 'year'? What kind of `type()` has the column?\n",
    "- What is the `*.pkl` file? How do load it into your program and what are the data contents in it?\n",
    "- What is the purpose of `.loc()` and `.iloc()`?\n",
    "- How do you sort values in a column?\n",
    "\n",
    "When you have completed the tasks, please commit this notebook to your GitHub repository in the directory `assignments/06/`.\n"
   ]
  },
  {
   "cell_type": "code",
   "execution_count": 42,
   "metadata": {},
   "outputs": [
    {
     "name": "stdout",
     "output_type": "stream",
     "text": [
      "\n",
      "Using .iloc() for integer-based indexing:\n",
      "Altgeld\n"
     ]
    }
   ],
   "source": [
    "# Load one of the CSV files as a DataFrame.\n",
    "\n",
    "import pandas as pd\n",
    "\n",
    "# Load the CSV file into a DataFrame\n",
    "df = pd.read_csv('data/2017_circ.csv')\n",
    "\n",
    "# Load the pickle file into another DataFrame\n",
    "df_long = pd.read_pickle('data/df_long.pkl')\n",
    "\n",
    "print(\"\\nUsing .iloc() for integer-based indexing:\")\n",
    "print(df.iloc[0, 0])  # Accesses the first row, first column value."
   ]
  },
  {
   "cell_type": "markdown",
   "metadata": {},
   "source": [
    "**Documented Outputs:**\n",
    "- `info()`: Provides an overview of the DataFrame, showing the number of entries, data types, and memory usage.\n",
    "- `head()`: Displays the first few rows of the dataset for a quick preview.\n",
    "- `tail()`: Displays the last few rows of the dataset for a quick preview.\n",
    "- `describe()`: Generates summary statistics (mean, std, min, max, etc.) for numerical columns.\n",
    "- `columns`: Lists all column names."
   ]
  },
  {
   "cell_type": "code",
   "execution_count": 43,
   "metadata": {},
   "outputs": [
    {
     "name": "stdout",
     "output_type": "stream",
     "text": [
      "Info:\n",
      "<class 'pandas.core.frame.DataFrame'>\n",
      "RangeIndex: 80 entries, 0 to 79\n",
      "Data columns (total 17 columns):\n",
      " #   Column     Non-Null Count  Dtype  \n",
      "---  ------     --------------  -----  \n",
      " 0   branch     80 non-null     object \n",
      " 1   address    0 non-null      float64\n",
      " 2   city       0 non-null      float64\n",
      " 3   zip code   0 non-null      float64\n",
      " 4   january    80 non-null     int64  \n",
      " 5   february   80 non-null     int64  \n",
      " 6   march      80 non-null     int64  \n",
      " 7   april      80 non-null     int64  \n",
      " 8   may        80 non-null     int64  \n",
      " 9   june       80 non-null     int64  \n",
      " 10  july       80 non-null     int64  \n",
      " 11  august     80 non-null     int64  \n",
      " 12  september  80 non-null     int64  \n",
      " 13  october    80 non-null     int64  \n",
      " 14  november   80 non-null     int64  \n",
      " 15  december   80 non-null     int64  \n",
      " 16  ytd        80 non-null     int64  \n",
      "dtypes: float64(3), int64(13), object(1)\n",
      "memory usage: 10.8+ KB\n",
      "None\n",
      "\n",
      "Head:\n",
      "            branch  address  city  zip code  january  february  march  april  \\\n",
      "0          Altgeld      NaN   NaN       NaN      316       230    331    404   \n",
      "1   Garfield Ridge      NaN   NaN       NaN     5079      4561   5600   4880   \n",
      "2      Rogers Park      NaN   NaN       NaN     9954      8866  10334  10420   \n",
      "3            Merlo      NaN   NaN       NaN     8128      7446   8751   7102   \n",
      "4  Legler Regional      NaN   NaN       NaN     1357      1038   1077   1095   \n",
      "\n",
      "     may   june   july  august  september  october  november  december     ytd  \n",
      "0    249    294    583     568        419      355       268       280    4297  \n",
      "1   4483   5670   5967    5149       4944     5441      5147      4513   61434  \n",
      "2  10106  10935  11882   12265      10696    11163     10010      9515  126146  \n",
      "3   8065   7862   8108    8844       7964     8011      8356      6840   95477  \n",
      "4    857   1151   1153    1110        905     1007       972       798   12520  \n",
      "\n",
      "Tail:\n",
      "             branch  address  city  zip code  january  february  march  april  \\\n",
      "75         Clearing      NaN   NaN       NaN     3420      2819   3504   3316   \n",
      "76   Little Village      NaN   NaN       NaN     5735      4749   5270   5210   \n",
      "77  Sulzer Regional      NaN   NaN       NaN    34177     31377  37311  34055   \n",
      "78        Roosevelt      NaN   NaN       NaN     4682      4538   4967   5117   \n",
      "79    McKinley Park      NaN   NaN       NaN     5830      5592   6332   5874   \n",
      "\n",
      "      may   june   july  august  september  october  november  december  \\\n",
      "75   2671   3383   3934    3478       3035     3067      2890      2433   \n",
      "76   4804   4426   5161    5317       5175     5790      5308      4297   \n",
      "77  33331  35679  36438   36798      32274    32816     32316     26751   \n",
      "78   4981   5319   5615    5496       4724     4427      4410      4090   \n",
      "79   5708   6004   5965    5950       5266     5876      5309      4873   \n",
      "\n",
      "       ytd  \n",
      "75   37950  \n",
      "76   61242  \n",
      "77  403323  \n",
      "78   58366  \n",
      "79   68579  \n",
      "\n",
      "Describe:\n",
      "       address  city  zip code       january      february         march  \\\n",
      "count      0.0   0.0       0.0     80.000000     80.000000     80.000000   \n",
      "mean       NaN   NaN       NaN   5676.050000   5116.950000   5884.887500   \n",
      "std        NaN   NaN       NaN   7115.582764   6447.984216   7412.432642   \n",
      "min        NaN   NaN       NaN      0.000000      0.000000      0.000000   \n",
      "25%        NaN   NaN       NaN   1991.750000   1569.000000   1841.750000   \n",
      "50%        NaN   NaN       NaN   4228.500000   4011.000000   4482.500000   \n",
      "75%        NaN   NaN       NaN   7264.250000   6698.500000   7306.500000   \n",
      "max        NaN   NaN       NaN  52985.000000  47301.000000  53412.000000   \n",
      "\n",
      "             april          may         june          july        august  \\\n",
      "count     80.00000     80.00000     80.00000     80.000000     80.000000   \n",
      "mean    5378.83750   5208.41250   5764.66250   6097.475000   6147.250000   \n",
      "std     6796.84238   6819.51714   7192.98431   7889.075629   8004.629875   \n",
      "min        0.00000      0.00000      0.00000      0.000000      0.000000   \n",
      "25%     1837.00000   1684.25000   1776.50000   1896.000000   2012.750000   \n",
      "50%     4164.00000   3783.00000   4262.50000   4621.500000   4661.000000   \n",
      "75%     6669.50000   6543.25000   7472.75000   7912.250000   8087.750000   \n",
      "max    49640.00000  49826.00000  51680.00000  59485.000000  60577.000000   \n",
      "\n",
      "          september       october      november      december            ytd  \n",
      "count     80.000000     80.000000     80.000000     80.000000      80.000000  \n",
      "mean    5393.800000   5612.537500   5355.175000   4684.262500   66320.300000  \n",
      "std     7008.071895   7218.908722   7190.884526   6230.521747   85166.625251  \n",
      "min        0.000000      0.000000      0.000000      0.000000       0.000000  \n",
      "25%     1797.000000   1929.500000   1667.750000   1549.250000   22232.000000  \n",
      "50%     3951.500000   4479.500000   3936.000000   3410.500000   49699.500000  \n",
      "75%     6815.000000   6881.750000   6846.500000   5977.000000   83956.000000  \n",
      "max    52602.000000  54979.000000  54575.000000  47508.000000  634570.000000  \n",
      "\n",
      "Columns:\n",
      "Index(['branch', 'address', 'city', 'zip code', 'january', 'february', 'march',\n",
      "       'april', 'may', 'june', 'july', 'august', 'september', 'october',\n",
      "       'november', 'december', 'ytd'],\n",
      "      dtype='object')\n"
     ]
    }
   ],
   "source": [
    "# Basic Information about the Data\n",
    "\n",
    "print(\"Info:\")\n",
    "print(df.info())  # Displays the structure of the DataFrame, including data types and non-null counts.\n",
    "\n",
    "print(\"\\nHead:\")\n",
    "print(df.head())  # Displays the first 5 rows of the DataFrame.\n",
    "\n",
    "print(\"\\nTail:\")\n",
    "print(df.tail())  # Displays the last 5 rows of the DataFrame.\n",
    "\n",
    "print(\"\\nDescribe:\")\n",
    "print(df.describe())  # Summary statistics for numerical columns.\n",
    "\n",
    "print(\"\\nColumns:\")\n",
    "print(df.columns)  # Lists all column names."
   ]
  },
  {
   "cell_type": "code",
   "execution_count": 44,
   "metadata": {},
   "outputs": [
    {
     "name": "stdout",
     "output_type": "stream",
     "text": [
      "\n",
      "First 10 Rows:\n",
      "                             branch  address  city  zip code  january  \\\n",
      "0                           Altgeld      NaN   NaN       NaN      316   \n",
      "1                    Garfield Ridge      NaN   NaN       NaN     5079   \n",
      "2                       Rogers Park      NaN   NaN       NaN     9954   \n",
      "3                             Merlo      NaN   NaN       NaN     8128   \n",
      "4                   Legler Regional      NaN   NaN       NaN     1357   \n",
      "5                              King      NaN   NaN       NaN     2746   \n",
      "6                      North Austin      NaN   NaN       NaN     1518   \n",
      "7                            Uptown      NaN   NaN       NaN     6838   \n",
      "8                Wrightwood-Ashburn      NaN   NaN       NaN     2068   \n",
      "9  Harold Washington Library Center      NaN   NaN       NaN    52985   \n",
      "\n",
      "   february  march  april    may   june   july  august  september  october  \\\n",
      "0       230    331    404    249    294    583     568        419      355   \n",
      "1      4561   5600   4880   4483   5670   5967    5149       4944     5441   \n",
      "2      8866  10334  10420  10106  10935  11882   12265      10696    11163   \n",
      "3      7446   8751   7102   8065   7862   8108    8844       7964     8011   \n",
      "4      1038   1077   1095    857   1151   1153    1110        905     1007   \n",
      "5      2109   2450   2208   2182   2560   2431    2769       2548     2854   \n",
      "6      1423   1635   1411   1297   1533   1840    1862       1578     1705   \n",
      "7      6344   7281   6580   6452   7456   7847    8013       6839     6844   \n",
      "8      1911   2097   1907   1565   1929   1904    2074       1813     2052   \n",
      "9     47301  53412  49640  49826  51680  59485   60577      52602    54979   \n",
      "\n",
      "   november  december     ytd  \n",
      "0       268       280    4297  \n",
      "1      5147      4513   61434  \n",
      "2     10010      9515  126146  \n",
      "3      8356      6840   95477  \n",
      "4       972       798   12520  \n",
      "5      2051      2019   28927  \n",
      "6      1414       629   17845  \n",
      "7      6731      5900   83125  \n",
      "8      1646      1507   22473  \n",
      "9     54575     47508  634570  \n",
      "\n",
      "Last 10 Rows:\n",
      "             branch  address  city  zip code  january  february  march  april  \\\n",
      "70       Near North      NaN   NaN       NaN     9473      8531   9317   8486   \n",
      "71       Scottsdale      NaN   NaN       NaN     2879      2616   3373   2807   \n",
      "72   Portage-Cragin      NaN   NaN       NaN     7500      6941   7699   7441   \n",
      "73           Walker      NaN   NaN       NaN     1934      1503   1900   1757   \n",
      "74         Brainerd      NaN   NaN       NaN     1087       957    990    872   \n",
      "75         Clearing      NaN   NaN       NaN     3420      2819   3504   3316   \n",
      "76   Little Village      NaN   NaN       NaN     5735      4749   5270   5210   \n",
      "77  Sulzer Regional      NaN   NaN       NaN    34177     31377  37311  34055   \n",
      "78        Roosevelt      NaN   NaN       NaN     4682      4538   4967   5117   \n",
      "79    McKinley Park      NaN   NaN       NaN     5830      5592   6332   5874   \n",
      "\n",
      "      may   june   july  august  september  october  november  december  \\\n",
      "70   9239   9930   9859   10012       9740     9065      9125      8144   \n",
      "71   2550   3019   3326    2845       2593     2412      2501      1959   \n",
      "72   6959   7523   8173    8384       7509     7659      7623      6333   \n",
      "73   1586   1769   2204    2057       1749     1800      1675      1575   \n",
      "74    858   1027    944    1236        984     1020      1102      1348   \n",
      "75   2671   3383   3934    3478       3035     3067      2890      2433   \n",
      "76   4804   4426   5161    5317       5175     5790      5308      4297   \n",
      "77  33331  35679  36438   36798      32274    32816     32316     26751   \n",
      "78   4981   5319   5615    5496       4724     4427      4410      4090   \n",
      "79   5708   6004   5965    5950       5266     5876      5309      4873   \n",
      "\n",
      "       ytd  \n",
      "70  110921  \n",
      "71   32880  \n",
      "72   89744  \n",
      "73   21509  \n",
      "74   12425  \n",
      "75   37950  \n",
      "76   61242  \n",
      "77  403323  \n",
      "78   58366  \n",
      "79   68579  \n"
     ]
    }
   ],
   "source": [
    "# How to get the first/last ten rows of the DataFrame\n",
    "\n",
    "first_10_rows = df.head(10)\n",
    "print(\"\\nFirst 10 Rows:\")\n",
    "print(first_10_rows)\n",
    "\n",
    "last_10_rows = df.tail(10)\n",
    "print(\"\\nLast 10 Rows:\")\n",
    "print(last_10_rows)"
   ]
  },
  {
   "cell_type": "code",
   "execution_count": 45,
   "metadata": {},
   "outputs": [
    {
     "name": "stdout",
     "output_type": "stream",
     "text": [
      "\n",
      "Rows 30 to 40:\n",
      "                            branch  address  city  zip code  january  \\\n",
      "30                           Roden      NaN   NaN       NaN     6333   \n",
      "31                       West Lawn      NaN   NaN       NaN     4673   \n",
      "32                     Chicago Bee      NaN   NaN       NaN     1207   \n",
      "33                   South Chicago      NaN   NaN       NaN     2270   \n",
      "34                        Bezazian      NaN   NaN       NaN     8300   \n",
      "35                     South Shore      NaN   NaN       NaN     2861   \n",
      "36                          Austin      NaN   NaN       NaN     1217   \n",
      "37                     Canaryville      NaN   NaN       NaN     1703   \n",
      "38                          Avalon      NaN   NaN       NaN     3814   \n",
      "39                   Jeffery Manor      NaN   NaN       NaN      922   \n",
      "40  Daley, Richard M. - W Humboldt      NaN   NaN       NaN     3000   \n",
      "\n",
      "    february  march  april   may  june  july  august  september  october  \\\n",
      "30      5764   6389   5613  5932  7062  7408    7359       6212     5955   \n",
      "31      4122   4678   4588  3750  4250  4825    4778       3848     4532   \n",
      "32       885   1075    825   917   986  1178    1371       1203     1104   \n",
      "33      2183   2447   2043  1895  2118  2402    2299       2037     2100   \n",
      "34      7707   9213   8705  9262  9401  9363    9105       7876     7964   \n",
      "35      2269   2632   2013  2157  2205  2952    3490       2792     2700   \n",
      "36      1253   1492   1307  1192  1367  1622    1455       1061        0   \n",
      "37      1496   1904   1930  1717  2129  2249    2274       1897     1952   \n",
      "38      3988   3780   3993  3461  3586  3413    3893       4040     4869   \n",
      "39       742    696    740   608   725   770     770        935      766   \n",
      "40      2692   2866   2732  2279  2442  2477    2804       2699     2693   \n",
      "\n",
      "    november  december     ytd  \n",
      "30      5689      4967   74683  \n",
      "31      3942      3062   51048  \n",
      "32      1076       913   12740  \n",
      "33      1624      1562   24980  \n",
      "34      8288      7648  102832  \n",
      "35      2139      2317   30527  \n",
      "36        49         0   12015  \n",
      "37      2059      1717   23027  \n",
      "38      3969      3175   45981  \n",
      "39       737       646    9057  \n",
      "40      2486      2427   31597  \n"
     ]
    }
   ],
   "source": [
    "# How to get rows between row 30 and row 40\n",
    "\n",
    "rows_30_to_40 = df.iloc[30:41]  # iloc is zero-based indexing\n",
    "print(\"\\nRows 30 to 40:\")\n",
    "print(rows_30_to_40)"
   ]
  },
  {
   "cell_type": "code",
   "execution_count": 51,
   "metadata": {},
   "outputs": [
    {
     "name": "stdout",
     "output_type": "stream",
     "text": [
      "\n",
      "Year Column:\n",
      "0      4297\n",
      "1     61434\n",
      "2    126146\n",
      "3     95477\n",
      "4     12520\n",
      "Name: ytd, dtype: int64\n",
      "\n",
      "Type of 'year' column: <class 'pandas.core.series.Series'>\n"
     ]
    }
   ],
   "source": [
    "# How to get a specific column (e.g., 'year')\n",
    "\n",
    "year_column = df['ytd']\n",
    "print(\"\\nYear Column:\")\n",
    "print(year_column.head())\n",
    "print(\"\\nType of 'year' column:\", type(year_column))  # Outputs the type of the column (usually pandas Series)"
   ]
  },
  {
   "cell_type": "markdown",
   "metadata": {},
   "source": [
    "### .pkl file\n",
    "A `.pkl` file is a serialized Python object saved using the `pickle` library.\n",
    "It can store DataFrames or other objects in a binary format."
   ]
  },
  {
   "cell_type": "code",
   "execution_count": 48,
   "metadata": {},
   "outputs": [
    {
     "name": "stdout",
     "output_type": "stream",
     "text": [
      "\n",
      "Contents of df_long.pkl:\n",
      "                    branch                  address     city  zip code  \\\n",
      "date                                                                     \n",
      "2011-01-01     Albany Park     5150 N. Kimball Ave.  Chicago   60625.0   \n",
      "2011-01-01         Altgeld    13281 S. Corliss Ave.  Chicago   60827.0   \n",
      "2011-01-01  Archer Heights      5055 S. Archer Ave.  Chicago   60632.0   \n",
      "2011-01-01          Austin        5615 W. Race Ave.  Chicago   60644.0   \n",
      "2011-01-01   Austin-Irving  6100 W. Irving Park Rd.  Chicago   60634.0   \n",
      "\n",
      "               ytd  year    month  circulation  \n",
      "date                                            \n",
      "2011-01-01  120059  2011  january         8427  \n",
      "2011-01-01    9611  2011  january         1258  \n",
      "2011-01-01  101951  2011  january         8104  \n",
      "2011-01-01   25527  2011  january         1755  \n",
      "2011-01-01  165634  2011  january        12593  \n"
     ]
    }
   ],
   "source": [
    "print(\"\\nContents of df_long.pkl:\")\n",
    "print(df_long.head())  # Displays the first 5 rows of the DataFrame loaded from the pickle file."
   ]
  },
  {
   "cell_type": "markdown",
   "metadata": {},
   "source": [
    "### Purpose of .loc() and .iloc()\n",
    "`.loc()` is used for label-based indexing (row/column labels).\n",
    "`.iloc()` is used for integer-based indexing (row/column positions)."
   ]
  },
  {
   "cell_type": "code",
   "execution_count": 57,
   "metadata": {},
   "outputs": [
    {
     "name": "stdout",
     "output_type": "stream",
     "text": [
      "\n",
      "Using .loc() for label-based indexing:\n",
      "4297\n"
     ]
    }
   ],
   "source": [
    "print(\"\\nUsing .loc() for label-based indexing:\")\n",
    "print(df.loc[0, 'ytd'])  # Accesses the 'year' column value of the first row."
   ]
  },
  {
   "cell_type": "code",
   "execution_count": 59,
   "metadata": {},
   "outputs": [
    {
     "name": "stdout",
     "output_type": "stream",
     "text": [
      "\n",
      "Using .iloc() for integer-based indexing:\n",
      "4297\n"
     ]
    }
   ],
   "source": [
    "ytd_col = df.columns.get_loc('ytd') \n",
    "print(\"\\nUsing .iloc() for integer-based indexing:\")\n",
    "print(df.iloc[0, ytd_col])"
   ]
  },
  {
   "cell_type": "code",
   "execution_count": 53,
   "metadata": {},
   "outputs": [
    {
     "name": "stdout",
     "output_type": "stream",
     "text": [
      "\n",
      "Sorted DataFrame by 'year':\n",
      "              branch  address  city  zip code  january  february  march  \\\n",
      "56  Woodson Regional      NaN   NaN       NaN        0         0      0   \n",
      "51      Independence      NaN   NaN       NaN        0         0      0   \n",
      "0            Altgeld      NaN   NaN       NaN      316       230    331   \n",
      "39     Jeffery Manor      NaN   NaN       NaN      922       742    696   \n",
      "13      Sherman Park      NaN   NaN       NaN      910       740    832   \n",
      "\n",
      "    april  may  june  july  august  september  october  november  december  \\\n",
      "56      0    0     0     0       0          0        0         0         0   \n",
      "51      0    0     0     0       0          0        0         0         0   \n",
      "0     404  249   294   583     568        419      355       268       280   \n",
      "39    740  608   725   770     770        935      766       737       646   \n",
      "13    816  635   713  1121     976        666      548       615       656   \n",
      "\n",
      "     ytd  \n",
      "56     0  \n",
      "51     0  \n",
      "0   4297  \n",
      "39  9057  \n",
      "13  9228  \n"
     ]
    }
   ],
   "source": [
    "# How to sort values in a column?\n",
    "\n",
    "sorted_df = df.sort_values(by='ytd', ascending=True)\n",
    "print(\"\\nSorted DataFrame by 'year':\")\n",
    "print(sorted_df.head())"
   ]
  },
  {
   "cell_type": "markdown",
   "metadata": {},
   "source": [
    "## Setup your Python and Jupyter environment\n",
    "\n",
    "### Step 1: Install Python\n",
    "\n",
    "1.\tDownload Python:\n",
    "\n",
    "- Go to the official Python website.\n",
    "- Download the latest version of Python (e.g., Python 3.x.x) for your operating system (Windows, macOS, or Linux).\n",
    "\n",
    "2.\tInstall Python:  \n",
    "\n",
    "Windows:\n",
    "- Run the downloaded .exe file.\n",
    "- IMPORTANT: During installation, check the box that says “Add Python to PATH”.\n",
    "- Select “Customize installation” (optional, but helpful for control over features).\n",
    "- Complete the installation.\n",
    "  \n",
    "macOS:\n",
    "- Run the .pkg file and follow the instructions.\n",
    "- Alternatively, use the terminal command (requires Homebrew):\n",
    "\n",
    "```\n",
    "brew install python3\n",
    "```\n",
    "\n",
    "Linux:\n",
    "- Use the package manager (e.g., apt for Ubuntu):\n",
    "\n",
    "```\n",
    "sudo apt update\n",
    "sudo apt install python3 python3-pip\n",
    "```\n",
    "\n",
    "3.\tVerify Python Installation:\n",
    "\n",
    "- Open a terminal or command prompt and type:\n",
    "```\n",
    "python --version\n",
    "```\n",
    "\n",
    "This should show the Python version you installed (e.g., Python 3.10.0).\n",
    "\n",
    "### Step 2: Install a Package Manager (pip)\n",
    "\n",
    "pip is the package manager for Python and is usually bundled with Python installations. You can use it to install additional libraries, including Jupyter.\n",
    "\n",
    "1.Verify pip is installed:\n",
    "- Open a terminal or command prompt and type:\n",
    "\n",
    "```\n",
    "pip --version\n",
    "```\n",
    "\n",
    "- If pip is installed, it will display the version.\n",
    "\n",
    "2.\tUpgrade pip (optional):\n",
    "- It’s a good idea to keep pip up-to-date. In the terminal/command prompt, type:\n",
    "\n",
    "```\n",
    "python -m pip install --upgrade pip\n",
    "```\n",
    "\n",
    "### Step 3: Set Up a Virtual Environment (Optional but Recommended)\n",
    "\n",
    "Virtual environments allow you to isolate Python packages and dependencies for different projects.\n",
    "\n",
    "1.\tCreate a virtual environment:\n",
    "\n",
    "Navigate to the directory where you want to set up the environment and run:\n",
    "\n",
    "```\n",
    "python -m venv myenv\n",
    "```\n",
    "\n",
    "This will create a virtual environment named myenv.\n",
    "\n",
    "2. Activate the virtual environment:\n",
    "Windows:\n",
    "\n",
    "```\n",
    "myenv\\Scripts\\activate\n",
    "```\n",
    "\n",
    "- macOS/Linux:\n",
    "\n",
    "```\n",
    "source myenv/bin/activate\n",
    "```\n",
    "\n",
    "3.\tDeactivate the virtual environment: (when you’re done working)\n",
    "\n",
    "```\n",
    "deactivate\n",
    "```\n",
    "\n",
    "\n",
    "### Step 4: Install Jupyter Notebook\n",
    "\n",
    "Jupyter is installed using pip. Once Python (and pip) is set up, Jupyter can be easily installed.\n",
    "\n",
    "1. Install Jupyter:\n",
    "\n",
    "In the terminal or command prompt (and optionally inside your virtual environment), type:\n",
    "\n",
    "```\n",
    "pip install jupyter\n",
    "```\n",
    "\n",
    "2.\tVerify Jupyter Installation:\n",
    "\n",
    "After installation, type:\n",
    "\n",
    "```\n",
    "jupyter --version\n",
    "```\n",
    "\n",
    "This should display the version of Jupyter.\n",
    "\n",
    "### Step 5: Launch Jupyter Notebook\n",
    "\n",
    "1.\tRun Jupyter Notebook:\n",
    "\n",
    "In your terminal/command prompt, type:\n",
    "\n",
    "```\n",
    "jupyter notebook\n",
    "```\n",
    "\n",
    "This will open Jupyter in your default web browser.\n",
    "\n",
    "2.\tCreate a new notebook:\n",
    "- In the Jupyter dashboard (the browser window), click New and select Python 3 to create a new notebook.\n",
    "\n",
    "### Step 6: Install Common Python Packages\n",
    "\n",
    "Install commonly used libraries such as numpy, pandas, and matplotlib.\n",
    "\n",
    "1.\tInstall packages:\n",
    "\n",
    "```\n",
    "pip install numpy pandas matplotlib\n",
    "```\n",
    "\n",
    "2.\tTest packages in Jupyter:\n",
    "- In a new Jupyter notebook, try importing these libraries:\n",
    "\n",
    "```\n",
    "import numpy as np\n",
    "import pandas as pd\n",
    "import matplotlib.pyplot as plt\n",
    "```\n",
    "\n",
    "### Step 7: Configure Jupyter for Better Usage (Optional)\n",
    "\n",
    "You can enhance your Jupyter environment with additional configurations.\n",
    "\n",
    "1.\tJupyterLab (an advanced alternative to Jupyter Notebook):\n",
    "\n",
    "Install JupyterLab:\n",
    "```\n",
    "pip install jupyterlab\n",
    "```\n",
    "\n",
    "Launch JupyterLab by typing:\n",
    "```\n",
    "jupyter lab\n",
    "```\n",
    "\n",
    "2.\tInstall Jupyter Extensions (optional but useful):\n",
    "- Jupyter extensions add useful features like a table of contents, variable inspector, etc.\n",
    "- First, install jupyter_contrib_nbextensions:\n",
    "\n",
    "```\n",
    "pip install jupyter_contrib_nbextensions\n",
    "jupyter contrib nbextension install --user\n",
    "```\n",
    "\n",
    "- Open Jupyter Notebook and enable the desired extensions from the Nbextensions tab.\n",
    "\n",
    "### Step 8: Install Integrated Development Environment (IDE) (Optional)\n",
    "\n",
    "You can install an IDE like VSCode or PyCharm for a better Python development experience.\n",
    "\n",
    "1. Install Visual Studio Code:\n",
    "- Download and install Visual Studio Code.\n",
    "- Install the Python extension from the VSCode marketplace.\n",
    "\n",
    "2. Configure Jupyter in VSCode:\n",
    "- Once the Python extension is installed in VSCode, you can open .ipynb files (Jupyter notebooks) directly in VSCode and run them within the IDE.\n",
    "\n",
    "### Step 9: Explore and Test\n",
    "\n",
    "Your environment is now ready! Explore Python in Jupyter by writing and running simple code snippets, installing additional libraries as needed for specific projects, and trying out new features.\n",
    "\n",
    "Troubleshooting Tips:\n",
    "\n",
    "- Python not recognized: Ensure Python is added to your system’s PATH. On Windows, you can manually add it if you didn’t check the option during installation.\n",
    "- Permission errors: Run commands with sudo on macOS/Linux or as an administrator on Windows if you encounter permission issues.\n",
    "- Kernel issues in Jupyter: If you have multiple Python versions, ensure the correct Python environment is linked to Jupyter using the command python -m ipykernel install --user --name=myenv for the correct virtual environment."
   ]
  }
 ],
 "metadata": {
  "kernelspec": {
   "display_name": "Python 3 (ipykernel)",
   "language": "python",
   "name": "python3"
  },
  "language_info": {
   "codemirror_mode": {
    "name": "ipython",
    "version": 3
   },
   "file_extension": ".py",
   "mimetype": "text/x-python",
   "name": "python",
   "nbconvert_exporter": "python",
   "pygments_lexer": "ipython3",
   "version": "3.9.13"
  }
 },
 "nbformat": 4,
 "nbformat_minor": 2
}

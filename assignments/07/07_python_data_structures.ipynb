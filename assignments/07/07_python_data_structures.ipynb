{
 "cells": [
  {
   "cell_type": "markdown",
   "metadata": {},
   "source": [
    "# DIS08 / OR92 Data Modeling: Python - Data structures"
   ]
  },
  {
   "cell_type": "markdown",
   "metadata": {},
   "source": [
    "# Introduction to Data Structures\n",
    "\n",
    "---\n",
    "\n",
    "**Note:** Some examples and assignments in this notebook are taken from the following sources.\n",
    "- https://docs.python.org/3/tutorial/datastructures.html\n",
    "- https://realpython.com/python-data-structures/\n",
    "- https://www.geeksforgeeks.org/python-data-structures/\n",
    "- https://automatetheboringstuff.com/\n",
    "\n",
    "\n",
    "---\n",
    "\n",
    "## What are data structures?\n",
    "Data structures are ways of organizing and storing data to enable efficient access and modification. They provide a means to manage large amounts of data and are fundamental to designing efficient algorithms. \n",
    "\n",
    "In Python, data structures can be broadly categorized into built-in types (like lists, tuples, sets, and dictionaries) and custom types created using classes.\n",
    "\n",
    "## Importance of choosing the right data structure\n",
    "Selecting the appropriate data structure is crucial for optimizing the performance of a program. The choice affects:\n",
    "- **Memory usage:** Some data structures require more memory than others.\n",
    "- **Speed of operations:** Different structures offer varying performance for insertion, deletion, searching, and updating operations.\n",
    "- **Code clarity:** The right structure can make code easier to read and maintain.\n",
    "\n",
    "## Built-in vs. custom data structures\n",
    "- **Built-in data structures** are provided by Python and include lists, tuples, sets, and dictionaries. They are highly optimized and easy to use.\n",
    "- **Custom data structures** can be implemented using classes to meet specific needs, such as stacks, queues, linked lists, trees, and graphs.\n",
    "\n",
    "Choosing between built-in and custom data structures depends on the problem requirements and the trade-offs involved.\n",
    "\n"
   ]
  },
  {
   "cell_type": "markdown",
   "metadata": {},
   "source": [
    "## Lists\n",
    "\n",
    "### Characteristics\n",
    "- **Ordered**: The elements in a list have a specific order, which is preserved.\n",
    "- **Mutable**: Lists can be modified after their creation (e.g., adding, removing, or changing elements).\n",
    "- **Allows Duplicates**: A list can contain multiple instances of the same value."
   ]
  },
  {
   "cell_type": "markdown",
   "metadata": {},
   "source": [
    "### Common Operations\n",
    "\n",
    "#### Indexing\n",
    "\n",
    "Access elements by their position in the list (starting at index 0)."
   ]
  },
  {
   "cell_type": "code",
   "execution_count": 1,
   "metadata": {},
   "outputs": [
    {
     "name": "stdout",
     "output_type": "stream",
     "text": [
      "[1, 2, 3, 4, 2, 5]\n",
      "First element: 1, Last element: 5\n"
     ]
    }
   ],
   "source": [
    "# Creating a list with some duplicate values\n",
    "my_list = [1, 2, 3, 4, 2, 5]\n",
    "print(my_list)  \n",
    "\n",
    "# Accessing elements\n",
    "first_element = my_list[0]   # First element\n",
    "last_element = my_list[-1]   # Last element\n",
    "\n",
    "print(f\"First element: {first_element}, Last element: {last_element}\")"
   ]
  },
  {
   "cell_type": "markdown",
   "metadata": {},
   "source": [
    "#### Slicing\n",
    "\n",
    "Retrieve a subset of the list using slicing."
   ]
  },
  {
   "cell_type": "code",
   "execution_count": 2,
   "metadata": {},
   "outputs": [
    {
     "name": "stdout",
     "output_type": "stream",
     "text": [
      "[2, 3, 4]\n"
     ]
    }
   ],
   "source": [
    "# Slicing the list\n",
    "sub_list = my_list[1:4]  # Elements from index 1 to 3\n",
    "print(sub_list) "
   ]
  },
  {
   "cell_type": "markdown",
   "metadata": {},
   "source": [
    "#### Appending\n",
    "\n",
    "Add an element to the end of the list using append()."
   ]
  },
  {
   "cell_type": "code",
   "execution_count": 3,
   "metadata": {},
   "outputs": [
    {
     "name": "stdout",
     "output_type": "stream",
     "text": [
      "[1, 2, 3, 4, 2, 5, 6]\n"
     ]
    }
   ],
   "source": [
    "# Appending a new element\n",
    "my_list.append(6)\n",
    "print(my_list)  "
   ]
  },
  {
   "cell_type": "markdown",
   "metadata": {},
   "source": [
    "#### Inserting\n",
    "\n",
    "Insert an element at a specific position using insert()."
   ]
  },
  {
   "cell_type": "code",
   "execution_count": 4,
   "metadata": {},
   "outputs": [
    {
     "name": "stdout",
     "output_type": "stream",
     "text": [
      "[1, 2, 99, 3, 4, 2, 5, 6]\n"
     ]
    }
   ],
   "source": [
    "# Inserting an element at index 2\n",
    "my_list.insert(2, 99)\n",
    "print(my_list)  "
   ]
  },
  {
   "cell_type": "markdown",
   "metadata": {},
   "source": [
    "#### Counting, sorting, reversing, etc."
   ]
  },
  {
   "cell_type": "code",
   "execution_count": 5,
   "metadata": {},
   "outputs": [
    {
     "data": {
      "text/plain": [
       "['orange', 'apple', 'pear', 'banana', 'kiwi', 'apple', 'banana']"
      ]
     },
     "execution_count": 5,
     "metadata": {},
     "output_type": "execute_result"
    }
   ],
   "source": [
    "fruits = ['orange', 'apple', 'pear', 'banana', 'kiwi', 'apple', 'banana']\n",
    "fruits"
   ]
  },
  {
   "cell_type": "code",
   "execution_count": 6,
   "metadata": {},
   "outputs": [
    {
     "data": {
      "text/plain": [
       "2"
      ]
     },
     "execution_count": 6,
     "metadata": {},
     "output_type": "execute_result"
    }
   ],
   "source": [
    "fruits.count('apple')"
   ]
  },
  {
   "cell_type": "code",
   "execution_count": 7,
   "metadata": {},
   "outputs": [
    {
     "data": {
      "text/plain": [
       "3"
      ]
     },
     "execution_count": 7,
     "metadata": {},
     "output_type": "execute_result"
    }
   ],
   "source": [
    "fruits.index('banana')"
   ]
  },
  {
   "cell_type": "code",
   "execution_count": 8,
   "metadata": {},
   "outputs": [
    {
     "data": {
      "text/plain": [
       "6"
      ]
     },
     "execution_count": 8,
     "metadata": {},
     "output_type": "execute_result"
    }
   ],
   "source": [
    "fruits.index('banana', 4)  # Find next banana starting at position 4"
   ]
  },
  {
   "cell_type": "code",
   "execution_count": 9,
   "metadata": {},
   "outputs": [
    {
     "data": {
      "text/plain": [
       "['banana', 'apple', 'kiwi', 'banana', 'pear', 'apple', 'orange']"
      ]
     },
     "execution_count": 9,
     "metadata": {},
     "output_type": "execute_result"
    }
   ],
   "source": [
    "fruits.reverse()\n",
    "fruits"
   ]
  },
  {
   "cell_type": "markdown",
   "metadata": {},
   "source": [
    "#### Using Lists as Stacks\n",
    "\n",
    "A stack is a linear data structure that follows the Last In, First Out (LIFO) principle, meaning the last element added to the stack is the first one to be removed. It is commonly used for tasks like managing function calls, undo operations, and evaluating expressions.\n",
    "\n",
    "In Python, a stack can be implemented using a list, where append() adds an item to the top and pop() removes the topmost item. Alternatively, the deque (from the collections module) is preferred for better performance, as it provides efficient O(1) operations for both appending and popping.\n",
    "\n",
    "**See also:** https://en.wikipedia.org/wiki/Stack_(abstract_data_type)"
   ]
  },
  {
   "cell_type": "code",
   "execution_count": 10,
   "metadata": {},
   "outputs": [
    {
     "data": {
      "text/plain": [
       "[3, 4, 5]"
      ]
     },
     "execution_count": 10,
     "metadata": {},
     "output_type": "execute_result"
    }
   ],
   "source": [
    "stack = [3, 4, 5]\n",
    "stack"
   ]
  },
  {
   "cell_type": "code",
   "execution_count": 11,
   "metadata": {},
   "outputs": [
    {
     "data": {
      "text/plain": [
       "[3, 4, 5, 6]"
      ]
     },
     "execution_count": 11,
     "metadata": {},
     "output_type": "execute_result"
    }
   ],
   "source": [
    "stack.append(6)\n",
    "stack"
   ]
  },
  {
   "cell_type": "code",
   "execution_count": 12,
   "metadata": {},
   "outputs": [
    {
     "data": {
      "text/plain": [
       "[3, 4, 5, 6, 7]"
      ]
     },
     "execution_count": 12,
     "metadata": {},
     "output_type": "execute_result"
    }
   ],
   "source": [
    "stack.append(7)\n",
    "stack"
   ]
  },
  {
   "cell_type": "code",
   "execution_count": 13,
   "metadata": {},
   "outputs": [
    {
     "data": {
      "text/plain": [
       "7"
      ]
     },
     "execution_count": 13,
     "metadata": {},
     "output_type": "execute_result"
    }
   ],
   "source": [
    "stack.pop()"
   ]
  },
  {
   "cell_type": "code",
   "execution_count": 14,
   "metadata": {},
   "outputs": [
    {
     "data": {
      "text/plain": [
       "6"
      ]
     },
     "execution_count": 14,
     "metadata": {},
     "output_type": "execute_result"
    }
   ],
   "source": [
    "stack.pop()"
   ]
  },
  {
   "cell_type": "markdown",
   "metadata": {},
   "source": [
    "#### Using Lists as Queues\n",
    "\n",
    "A queue is a linear data structure that follows the First In, First Out (FIFO) principle, meaning the first element added is the first one to be removed. It is commonly used for tasks like task scheduling, breadth-first search, and managing shared resources.\n",
    "\n",
    "In Python, a queue can be implemented using a list, though it is inefficient for frequent operations due to O(n) complexity when removing the first element. A more efficient approach is to use the deque (from the collections module), which provides O(1) operations for both appending and removing elements from either end. For thread-safe queues, the queue.Queue class from the queue module can be used.\n",
    "\n",
    "**See also:** https://en.wikipedia.org/wiki/Queue_(abstract_data_type)"
   ]
  },
  {
   "cell_type": "code",
   "execution_count": 15,
   "metadata": {},
   "outputs": [
    {
     "data": {
      "text/plain": [
       "deque(['Eric', 'John', 'Michael'])"
      ]
     },
     "execution_count": 15,
     "metadata": {},
     "output_type": "execute_result"
    }
   ],
   "source": [
    "from collections import deque\n",
    "\n",
    "queue = deque([\"Eric\", \"John\", \"Michael\"])\n",
    "queue"
   ]
  },
  {
   "cell_type": "code",
   "execution_count": 16,
   "metadata": {},
   "outputs": [
    {
     "data": {
      "text/plain": [
       "deque(['Eric', 'John', 'Michael', 'Terry'])"
      ]
     },
     "execution_count": 16,
     "metadata": {},
     "output_type": "execute_result"
    }
   ],
   "source": [
    "queue.append(\"Terry\")\n",
    "queue"
   ]
  },
  {
   "cell_type": "code",
   "execution_count": 17,
   "metadata": {},
   "outputs": [
    {
     "data": {
      "text/plain": [
       "deque(['Eric', 'John', 'Michael', 'Terry', 'Graham'])"
      ]
     },
     "execution_count": 17,
     "metadata": {},
     "output_type": "execute_result"
    }
   ],
   "source": [
    "queue.append(\"Graham\")\n",
    "queue"
   ]
  },
  {
   "cell_type": "code",
   "execution_count": 18,
   "metadata": {},
   "outputs": [
    {
     "data": {
      "text/plain": [
       "deque(['John', 'Michael', 'Terry', 'Graham'])"
      ]
     },
     "execution_count": 18,
     "metadata": {},
     "output_type": "execute_result"
    }
   ],
   "source": [
    "queue.popleft()\n",
    "queue"
   ]
  },
  {
   "cell_type": "code",
   "execution_count": 19,
   "metadata": {},
   "outputs": [
    {
     "data": {
      "text/plain": [
       "deque(['Michael', 'Terry', 'Graham'])"
      ]
     },
     "execution_count": 19,
     "metadata": {},
     "output_type": "execute_result"
    }
   ],
   "source": [
    "queue.popleft()\n",
    "queue"
   ]
  },
  {
   "cell_type": "markdown",
   "metadata": {},
   "source": [
    "### List comprehension\n",
    "\n",
    "List comprehension is a concise and elegant way to create and transform lists in Python. It provides a syntactic shortcut for generating new lists by applying an expression to each item in an existing iterable (like a list, range, or string) and optionally filtering elements based on a condition. "
   ]
  },
  {
   "cell_type": "code",
   "execution_count": 20,
   "metadata": {},
   "outputs": [
    {
     "data": {
      "text/plain": [
       "[0, 1, 4, 9, 16, 25, 36, 49, 64, 81]"
      ]
     },
     "execution_count": 20,
     "metadata": {},
     "output_type": "execute_result"
    }
   ],
   "source": [
    "squares = []\n",
    "for x in range(10):\n",
    "    squares.append(x**2)\n",
    "\n",
    "squares"
   ]
  },
  {
   "cell_type": "code",
   "execution_count": 21,
   "metadata": {},
   "outputs": [
    {
     "data": {
      "text/plain": [
       "[0, 1, 4, 9, 16, 25, 36, 49, 64, 81]"
      ]
     },
     "execution_count": 21,
     "metadata": {},
     "output_type": "execute_result"
    }
   ],
   "source": [
    "squares = list(map(lambda x: x**2, range(10)))\n",
    "squares"
   ]
  },
  {
   "cell_type": "code",
   "execution_count": 22,
   "metadata": {},
   "outputs": [
    {
     "data": {
      "text/plain": [
       "[0, 1, 4, 9, 16, 25, 36, 49, 64, 81]"
      ]
     },
     "execution_count": 22,
     "metadata": {},
     "output_type": "execute_result"
    }
   ],
   "source": [
    "squares = [x**2 for x in range(10)]\n",
    "squares"
   ]
  },
  {
   "cell_type": "markdown",
   "metadata": {},
   "source": [
    "## Tuples\n",
    "\n",
    "A tuple is an immutable sequence, meaning its elements cannot be modified after creation. Tuples are defined using parentheses () or simply by separating values with commas. For example, (1, 2, 3) or 1, 2, 3 are tuples. They are commonly used to represent fixed collections of items, like coordinates or function return values. Tuples are efficient and can hold heterogeneous data types, making them ideal for use as keys in dictionaries or when immutability is desired.\n",
    "\n",
    "A tuple consists of a number of values separated by commas, for instance:"
   ]
  },
  {
   "cell_type": "code",
   "execution_count": 23,
   "metadata": {},
   "outputs": [
    {
     "data": {
      "text/plain": [
       "12345"
      ]
     },
     "execution_count": 23,
     "metadata": {},
     "output_type": "execute_result"
    }
   ],
   "source": [
    "t = 12345, 54321, 'hello!'\n",
    "t[0]"
   ]
  },
  {
   "cell_type": "code",
   "execution_count": 24,
   "metadata": {},
   "outputs": [
    {
     "data": {
      "text/plain": [
       "((12345, 54321, 'hello!'), (1, 2, 3, 4, 5))"
      ]
     },
     "execution_count": 24,
     "metadata": {},
     "output_type": "execute_result"
    }
   ],
   "source": [
    "# Tuples may be nested:\n",
    "u = t, (1, 2, 3, 4, 5)\n",
    "u"
   ]
  },
  {
   "cell_type": "code",
   "execution_count": 25,
   "metadata": {},
   "outputs": [
    {
     "ename": "TypeError",
     "evalue": "'tuple' object does not support item assignment",
     "output_type": "error",
     "traceback": [
      "\u001b[1;31m---------------------------------------------------------------------------\u001b[0m",
      "\u001b[1;31mTypeError\u001b[0m                                 Traceback (most recent call last)",
      "\u001b[1;32m~\\AppData\\Local\\Temp\\ipykernel_18072\\3712877911.py\u001b[0m in \u001b[0;36m<module>\u001b[1;34m\u001b[0m\n\u001b[0;32m      1\u001b[0m \u001b[1;31m# Tuples are immutable:\u001b[0m\u001b[1;33m\u001b[0m\u001b[1;33m\u001b[0m\u001b[0m\n\u001b[1;32m----> 2\u001b[1;33m \u001b[0mt\u001b[0m\u001b[1;33m[\u001b[0m\u001b[1;36m0\u001b[0m\u001b[1;33m]\u001b[0m \u001b[1;33m=\u001b[0m \u001b[1;36m88888\u001b[0m\u001b[1;33m\u001b[0m\u001b[1;33m\u001b[0m\u001b[0m\n\u001b[0m",
      "\u001b[1;31mTypeError\u001b[0m: 'tuple' object does not support item assignment"
     ]
    }
   ],
   "source": [
    "# Tuples are immutable:\n",
    "t[0] = 88888"
   ]
  },
  {
   "cell_type": "code",
   "execution_count": 26,
   "metadata": {},
   "outputs": [
    {
     "data": {
      "text/plain": [
       "([1, 2, 3], [3, 2, 1])"
      ]
     },
     "execution_count": 26,
     "metadata": {},
     "output_type": "execute_result"
    }
   ],
   "source": [
    "# but they can contain mutable objects:\n",
    "v = ([1, 2, 3], [3, 2, 1])\n",
    "v"
   ]
  },
  {
   "cell_type": "markdown",
   "metadata": {},
   "source": [
    "## Sets\n",
    "\n",
    "A set in Python is an unordered collection of unique, immutable elements, commonly used for operations like membership testing, deduplication, and mathematical set operations (union, intersection, difference, and symmetric difference). Sets are defined using curly braces {} or the set() constructor, e.g., {1, 2, 3} or set([1, 2, 3]). They do not support indexing or slicing because they are unordered, but they are highly efficient for checking membership due to their underlying hash table implementation. Python also provides a frozenset, an immutable version of a set, which can be used as dictionary keys or elements of other sets."
   ]
  },
  {
   "cell_type": "code",
   "execution_count": 27,
   "metadata": {},
   "outputs": [
    {
     "data": {
      "text/plain": [
       "{'apple', 'banana', 'orange', 'pear'}"
      ]
     },
     "execution_count": 27,
     "metadata": {},
     "output_type": "execute_result"
    }
   ],
   "source": [
    "basket = {'apple', 'orange', 'apple', 'pear', 'orange', 'banana'}\n",
    "basket"
   ]
  },
  {
   "cell_type": "code",
   "execution_count": 28,
   "metadata": {},
   "outputs": [],
   "source": [
    "# Demonstrate set operations on unique letters from two words\n",
    "a = set('abracadabra')\n",
    "b = set('alacazam')"
   ]
  },
  {
   "cell_type": "code",
   "execution_count": 29,
   "metadata": {},
   "outputs": [
    {
     "data": {
      "text/plain": [
       "{'a', 'b', 'c', 'd', 'r'}"
      ]
     },
     "execution_count": 29,
     "metadata": {},
     "output_type": "execute_result"
    }
   ],
   "source": [
    "# unique letters in a\n",
    "a                                  "
   ]
  },
  {
   "cell_type": "code",
   "execution_count": 30,
   "metadata": {},
   "outputs": [
    {
     "data": {
      "text/plain": [
       "{'b', 'd', 'r'}"
      ]
     },
     "execution_count": 30,
     "metadata": {},
     "output_type": "execute_result"
    }
   ],
   "source": [
    "# letters in a but not in b\n",
    "a - b                              "
   ]
  },
  {
   "cell_type": "code",
   "execution_count": 31,
   "metadata": {},
   "outputs": [
    {
     "data": {
      "text/plain": [
       "{'a', 'b', 'c', 'd', 'l', 'm', 'r', 'z'}"
      ]
     },
     "execution_count": 31,
     "metadata": {},
     "output_type": "execute_result"
    }
   ],
   "source": [
    "# letters in a or b or both\n",
    "a | b"
   ]
  },
  {
   "cell_type": "code",
   "execution_count": 32,
   "metadata": {},
   "outputs": [
    {
     "data": {
      "text/plain": [
       "{'a', 'c'}"
      ]
     },
     "execution_count": 32,
     "metadata": {},
     "output_type": "execute_result"
    }
   ],
   "source": [
    "# letters in both a and b\n",
    "a & b                              \n"
   ]
  },
  {
   "cell_type": "code",
   "execution_count": 33,
   "metadata": {},
   "outputs": [
    {
     "data": {
      "text/plain": [
       "{'b', 'd', 'l', 'm', 'r', 'z'}"
      ]
     },
     "execution_count": 33,
     "metadata": {},
     "output_type": "execute_result"
    }
   ],
   "source": [
    "# letters in a or b but not both\n",
    "a ^ b                              "
   ]
  },
  {
   "cell_type": "markdown",
   "metadata": {},
   "source": [
    "## Dictionaries\n",
    "\n",
    "A dictionary in Python is an unordered, mutable collection that maps unique keys to values, making it ideal for storing and retrieving data efficiently using key-based lookups. Defined using curly braces {} with key-value pairs separated by colons, e.g., {\"name\": \"Alice\", \"age\": 30}, or created with the dict() constructor, dictionaries allow heterogeneous keys and values, though keys must be immutable (e.g., strings, numbers, or tuples). They support various operations, including adding, updating, and deleting key-value pairs, as well as built-in methods like .get(), .keys(), .values(), and .items() for accessing and manipulating data. Their efficient hash table implementation makes them a cornerstone of Python’s data structures."
   ]
  },
  {
   "cell_type": "code",
   "execution_count": 34,
   "metadata": {},
   "outputs": [
    {
     "data": {
      "text/plain": [
       "{'jack': 4098, 'sape': 4139, 'guido': 4127}"
      ]
     },
     "execution_count": 34,
     "metadata": {},
     "output_type": "execute_result"
    }
   ],
   "source": [
    "tel = {'jack': 4098, 'sape': 4139}\n",
    "tel['guido'] = 4127\n",
    "tel"
   ]
  },
  {
   "cell_type": "code",
   "execution_count": 35,
   "metadata": {},
   "outputs": [
    {
     "data": {
      "text/plain": [
       "4098"
      ]
     },
     "execution_count": 35,
     "metadata": {},
     "output_type": "execute_result"
    }
   ],
   "source": [
    "tel['jack']"
   ]
  },
  {
   "cell_type": "code",
   "execution_count": 36,
   "metadata": {},
   "outputs": [
    {
     "data": {
      "text/plain": [
       "{'jack': 4098, 'guido': 4127}"
      ]
     },
     "execution_count": 36,
     "metadata": {},
     "output_type": "execute_result"
    }
   ],
   "source": [
    "del tel['sape']\n",
    "tel"
   ]
  },
  {
   "cell_type": "code",
   "execution_count": 37,
   "metadata": {},
   "outputs": [
    {
     "data": {
      "text/plain": [
       "{'jack': 4098, 'guido': 4127, 'irv': 4127}"
      ]
     },
     "execution_count": 37,
     "metadata": {},
     "output_type": "execute_result"
    }
   ],
   "source": [
    "tel['irv'] = 4127\n",
    "tel"
   ]
  },
  {
   "cell_type": "code",
   "execution_count": 38,
   "metadata": {},
   "outputs": [
    {
     "data": {
      "text/plain": [
       "['jack', 'guido', 'irv']"
      ]
     },
     "execution_count": 38,
     "metadata": {},
     "output_type": "execute_result"
    }
   ],
   "source": [
    "list(tel)"
   ]
  },
  {
   "cell_type": "code",
   "execution_count": 39,
   "metadata": {},
   "outputs": [
    {
     "data": {
      "text/plain": [
       "['guido', 'irv', 'jack']"
      ]
     },
     "execution_count": 39,
     "metadata": {},
     "output_type": "execute_result"
    }
   ],
   "source": [
    "sorted(tel)"
   ]
  },
  {
   "cell_type": "code",
   "execution_count": 40,
   "metadata": {},
   "outputs": [
    {
     "data": {
      "text/plain": [
       "True"
      ]
     },
     "execution_count": 40,
     "metadata": {},
     "output_type": "execute_result"
    }
   ],
   "source": [
    "'guido' in tel"
   ]
  },
  {
   "cell_type": "code",
   "execution_count": 41,
   "metadata": {},
   "outputs": [
    {
     "data": {
      "text/plain": [
       "False"
      ]
     },
     "execution_count": 41,
     "metadata": {},
     "output_type": "execute_result"
    }
   ],
   "source": [
    "'jack' not in tel"
   ]
  },
  {
   "cell_type": "markdown",
   "metadata": {},
   "source": [
    "## Self-defined classes and basic concepts of object-oriented programming\n",
    "\n",
    "*Let's go to the library!*"
   ]
  },
  {
   "cell_type": "markdown",
   "metadata": {},
   "source": [
    "**Base Class (Encapsulation)**"
   ]
  },
  {
   "cell_type": "code",
   "execution_count": 42,
   "metadata": {},
   "outputs": [],
   "source": [
    "class Book:\n",
    "    def __init__(self, title, author, isbn, copies=1):\n",
    "        self._title = title  # Protected attribute\n",
    "        self._author = author  # Protected attribute\n",
    "        self._isbn = isbn  # Protected attribute\n",
    "        self._copies = copies  # Protected attribute\n",
    "\n",
    "    def display_info(self):\n",
    "        \"\"\"Public method to display book information.\"\"\"\n",
    "        print(f\"Title: {self._title}\")\n",
    "        print(f\"Author: {self._author}\")\n",
    "        print(f\"ISBN: {self._isbn}\")\n",
    "        print(f\"Copies Available: {self._copies}\")\n",
    "\n",
    "    def borrow_book(self):\n",
    "        \"\"\"Public method to borrow a book.\"\"\"\n",
    "        if self._copies > 0:\n",
    "            self._copies -= 1\n",
    "            print(f\"Borrowed '{self._title}'. Remaining copies: {self._copies}\")\n",
    "        else:\n",
    "            print(f\"'{self._title}' is currently unavailable.\")\n",
    "\n",
    "    def return_book(self):\n",
    "        \"\"\"Public method to return a book.\"\"\"\n",
    "        self._copies += 1\n",
    "        print(f\"Returned '{self._title}'. Total copies: {self._copies}\")"
   ]
  },
  {
   "cell_type": "markdown",
   "metadata": {},
   "source": [
    "**Derived Class (Inheritance)**"
   ]
  },
  {
   "cell_type": "code",
   "execution_count": 43,
   "metadata": {},
   "outputs": [],
   "source": [
    "class EBook(Book):\n",
    "    def __init__(self, title, author, isbn, file_size, file_format, copies=1):\n",
    "        super().__init__(title, author, isbn, copies)  # Call the constructor of the base class\n",
    "        self._file_size = file_size  # Specific to EBook\n",
    "        self._file_format = file_format  # Specific to EBook\n",
    "\n",
    "    def display_info(self):\n",
    "        \"\"\"Overriding method to include eBook-specific details.\"\"\"\n",
    "        super().display_info()\n",
    "        print(f\"File Size: {self._file_size}MB\")\n",
    "        print(f\"File Format: {self._file_format}\")"
   ]
  },
  {
   "cell_type": "markdown",
   "metadata": {},
   "source": [
    "**Polymorphism in action**"
   ]
  },
  {
   "cell_type": "code",
   "execution_count": 44,
   "metadata": {},
   "outputs": [],
   "source": [
    "def book_info(book):\n",
    "    \"\"\"Function to demonstrate polymorphism.\"\"\"\n",
    "    book.display_info()"
   ]
  },
  {
   "cell_type": "markdown",
   "metadata": {},
   "source": [
    "**Abstract Class**"
   ]
  },
  {
   "cell_type": "code",
   "execution_count": 45,
   "metadata": {},
   "outputs": [],
   "source": [
    "from abc import ABC, abstractmethod\n",
    "\n",
    "class LibraryMember(ABC):\n",
    "    def __init__(self, name, member_id):\n",
    "        self.name = name\n",
    "        self.member_id = member_id\n",
    "\n",
    "    @abstractmethod\n",
    "    def borrow(self):\n",
    "        pass\n",
    "\n",
    "    @abstractmethod\n",
    "    def return_item(self):\n",
    "        pass"
   ]
  },
  {
   "cell_type": "markdown",
   "metadata": {},
   "source": [
    "**Concrete class inheriting from abstract class**"
   ]
  },
  {
   "cell_type": "code",
   "execution_count": 46,
   "metadata": {},
   "outputs": [],
   "source": [
    "class Student(LibraryMember):\n",
    "    def __init__(self, name, member_id, borrowed_books=None):\n",
    "        super().__init__(name, member_id)\n",
    "        self.borrowed_books = borrowed_books if borrowed_books else []\n",
    "\n",
    "    def borrow(self, book):\n",
    "        \"\"\"Implements borrowing for a student.\"\"\"\n",
    "        if len(self.borrowed_books) < 3:  # Limit students to borrowing 3 books\n",
    "            book.borrow_book()\n",
    "            self.borrowed_books.append(book)\n",
    "        else:\n",
    "            print(f\"{self.name} has already borrowed 3 books!\")\n",
    "\n",
    "    def return_item(self, book):\n",
    "        \"\"\"Implements returning a book.\"\"\"\n",
    "        if book in self.borrowed_books:\n",
    "            book.return_book()\n",
    "            self.borrowed_books.remove(book)\n",
    "        else:\n",
    "            print(f\"{self.name} did not borrow '{book._title}'.\")\n",
    "\n",
    "    def display_borrowed_books(self):\n",
    "        print(f\"{self.name} has borrowed:\")\n",
    "        for book in self.borrowed_books:\n",
    "            print(f\"- {book._title}\")"
   ]
  },
  {
   "cell_type": "markdown",
   "metadata": {},
   "source": [
    "**Demonstration**"
   ]
  },
  {
   "cell_type": "code",
   "execution_count": 47,
   "metadata": {},
   "outputs": [
    {
     "name": "stdout",
     "output_type": "stream",
     "text": [
      "\n",
      "--- Book Information ---\n",
      "Title: The Great Gatsby\n",
      "Author: F. Scott Fitzgerald\n",
      "ISBN: 123456789\n",
      "Copies Available: 2\n",
      "Title: Python Programming\n",
      "Author: Guido van Rossum\n",
      "ISBN: 555666777\n",
      "Copies Available: 1\n",
      "File Size: 5MB\n",
      "File Format: PDF\n",
      "\n",
      "--- Borrowing Books ---\n",
      "Borrowed 'The Great Gatsby'. Remaining copies: 1\n",
      "Borrowed '1984'. Remaining copies: 0\n",
      "Borrowed 'Python Programming'. Remaining copies: 0\n",
      "Alice has already borrowed 3 books!\n",
      "\n",
      "--- Borrowed Books ---\n",
      "Alice has borrowed:\n",
      "- The Great Gatsby\n",
      "- 1984\n",
      "- Python Programming\n",
      "\n",
      "--- Returning a Book ---\n",
      "Returned 'The Great Gatsby'. Total copies: 2\n",
      "Alice has borrowed:\n",
      "- 1984\n",
      "- Python Programming\n",
      "\n",
      "--- Borrowing After Returning ---\n",
      "Borrowed 'To Kill a Mockingbird'. Remaining copies: 0\n",
      "\n",
      "--- Abstract Class Implementation ---\n",
      "Alice (ID: S001) is a library member.\n"
     ]
    }
   ],
   "source": [
    "if __name__ == \"__main__\":\n",
    "    # Create some book objects\n",
    "    book1 = Book(\"The Great Gatsby\", \"F. Scott Fitzgerald\", \"123456789\", 2)\n",
    "    book2 = Book(\"1984\", \"George Orwell\", \"987654321\", 1)\n",
    "    ebook1 = EBook(\"Python Programming\", \"Guido van Rossum\", \"555666777\", 5, \"PDF\")\n",
    "\n",
    "    # Display information using polymorphism\n",
    "    print(\"\\n--- Book Information ---\")\n",
    "    book_info(book1)\n",
    "    book_info(ebook1)\n",
    "\n",
    "    # Create a student member\n",
    "    student = Student(\"Alice\", \"S001\")\n",
    "\n",
    "    # Borrow books\n",
    "    print(\"\\n--- Borrowing Books ---\")\n",
    "    student.borrow(book1)\n",
    "    student.borrow(book2)\n",
    "    student.borrow(ebook1)\n",
    "\n",
    "    # Try borrowing more than 3 books\n",
    "    book3 = Book(\"To Kill a Mockingbird\", \"Harper Lee\", \"222333444\", 1)\n",
    "    student.borrow(book3)\n",
    "\n",
    "    # Display borrowed books\n",
    "    print(\"\\n--- Borrowed Books ---\")\n",
    "    student.display_borrowed_books()\n",
    "\n",
    "    # Return a book\n",
    "    print(\"\\n--- Returning a Book ---\")\n",
    "    student.return_item(book1)\n",
    "    student.display_borrowed_books()\n",
    "\n",
    "    # Borrow again\n",
    "    print(\"\\n--- Borrowing After Returning ---\")\n",
    "    student.borrow(book3)\n",
    "\n",
    "    # Abstract base class demonstration\n",
    "    print(\"\\n--- Abstract Class Implementation ---\")\n",
    "    print(f\"{student.name} (ID: {student.member_id}) is a library member.\")"
   ]
  },
  {
   "cell_type": "markdown",
   "metadata": {},
   "source": [
    "## Pandas' DataFrame class\n",
    "\n",
    "*Renting bikes in NYC...*\n",
    "\n",
    "In the following, we use data from Citi Bike.\n",
    "\n",
    "> **Wikipedia:** Citi Bike is a privately owned public bicycle sharing system serving the New York City boroughs of the Bronx, Brooklyn, Manhattan, and Queens, as well as Jersey City and Hoboken, New Jersey. Named after lead sponsor Citigroup, it was operated by Motivate (formerly Alta Bicycle Share), with former Metropolitan Transportation Authority CEO Jay Walder as chief executive until September 30, 2018, when the company was acquired by Lyft. The system's bikes and stations use technology from Lyft. \n",
    "\n",
    "**Source:** https://en.wikipedia.org/wiki/Citi_Bike\n",
    "\n",
    "Citi Bike provides monthly reports of their service usage that can be obtained from https://citibikenyc.com/system-data or more specifcially https://s3.amazonaws.com/tripdata/index.html"
   ]
  },
  {
   "cell_type": "code",
   "execution_count": null,
   "metadata": {},
   "outputs": [],
   "source": [
    "!wget https://s3.amazonaws.com/tripdata/JC-202410-citibike-tripdata.csv.zip && unzip JC-202410-citibike-tripdata.csv.zip"
   ]
  },
  {
   "cell_type": "code",
   "execution_count": 50,
   "metadata": {},
   "outputs": [
    {
     "data": {
      "text/html": [
       "<div>\n",
       "<style scoped>\n",
       "    .dataframe tbody tr th:only-of-type {\n",
       "        vertical-align: middle;\n",
       "    }\n",
       "\n",
       "    .dataframe tbody tr th {\n",
       "        vertical-align: top;\n",
       "    }\n",
       "\n",
       "    .dataframe thead th {\n",
       "        text-align: right;\n",
       "    }\n",
       "</style>\n",
       "<table border=\"1\" class=\"dataframe\">\n",
       "  <thead>\n",
       "    <tr style=\"text-align: right;\">\n",
       "      <th></th>\n",
       "      <th>ride_id</th>\n",
       "      <th>rideable_type</th>\n",
       "      <th>started_at</th>\n",
       "      <th>ended_at</th>\n",
       "      <th>start_station_name</th>\n",
       "      <th>start_station_id</th>\n",
       "      <th>end_station_name</th>\n",
       "      <th>end_station_id</th>\n",
       "      <th>start_lat</th>\n",
       "      <th>start_lng</th>\n",
       "      <th>end_lat</th>\n",
       "      <th>end_lng</th>\n",
       "      <th>member_casual</th>\n",
       "    </tr>\n",
       "  </thead>\n",
       "  <tbody>\n",
       "    <tr>\n",
       "      <th>0</th>\n",
       "      <td>172DBBFC733F03CE</td>\n",
       "      <td>electric_bike</td>\n",
       "      <td>2024-10-10 14:54:24.572</td>\n",
       "      <td>2024-10-10 15:04:07.657</td>\n",
       "      <td>Oakland Ave</td>\n",
       "      <td>JC022</td>\n",
       "      <td>Stevens - River Ter &amp; 6 St</td>\n",
       "      <td>HB602</td>\n",
       "      <td>40.737604</td>\n",
       "      <td>-74.052478</td>\n",
       "      <td>40.743133</td>\n",
       "      <td>-74.026989</td>\n",
       "      <td>member</td>\n",
       "    </tr>\n",
       "    <tr>\n",
       "      <th>1</th>\n",
       "      <td>D20BBA4860FE736C</td>\n",
       "      <td>electric_bike</td>\n",
       "      <td>2024-10-03 19:20:21.215</td>\n",
       "      <td>2024-10-03 19:31:46.511</td>\n",
       "      <td>Oakland Ave</td>\n",
       "      <td>JC022</td>\n",
       "      <td>Stevens - River Ter &amp; 6 St</td>\n",
       "      <td>HB602</td>\n",
       "      <td>40.737604</td>\n",
       "      <td>-74.052478</td>\n",
       "      <td>40.743133</td>\n",
       "      <td>-74.026989</td>\n",
       "      <td>casual</td>\n",
       "    </tr>\n",
       "    <tr>\n",
       "      <th>2</th>\n",
       "      <td>86F89348995D0E6E</td>\n",
       "      <td>classic_bike</td>\n",
       "      <td>2024-10-20 12:14:56.318</td>\n",
       "      <td>2024-10-20 12:28:32.053</td>\n",
       "      <td>Oakland Ave</td>\n",
       "      <td>JC022</td>\n",
       "      <td>South Waterfront Walkway - Sinatra Dr &amp; 1 St</td>\n",
       "      <td>HB103</td>\n",
       "      <td>40.737604</td>\n",
       "      <td>-74.052478</td>\n",
       "      <td>40.736982</td>\n",
       "      <td>-74.027781</td>\n",
       "      <td>casual</td>\n",
       "    </tr>\n",
       "    <tr>\n",
       "      <th>3</th>\n",
       "      <td>AA55A717B7EC1D10</td>\n",
       "      <td>classic_bike</td>\n",
       "      <td>2024-10-20 14:40:15.227</td>\n",
       "      <td>2024-10-20 14:55:39.100</td>\n",
       "      <td>Oakland Ave</td>\n",
       "      <td>JC022</td>\n",
       "      <td>Columbus Drive</td>\n",
       "      <td>JC014</td>\n",
       "      <td>40.737604</td>\n",
       "      <td>-74.052478</td>\n",
       "      <td>40.718355</td>\n",
       "      <td>-74.038914</td>\n",
       "      <td>member</td>\n",
       "    </tr>\n",
       "    <tr>\n",
       "      <th>4</th>\n",
       "      <td>C72953D91E986DA7</td>\n",
       "      <td>classic_bike</td>\n",
       "      <td>2024-10-20 08:37:03.280</td>\n",
       "      <td>2024-10-20 08:42:24.770</td>\n",
       "      <td>Brunswick &amp; 6th</td>\n",
       "      <td>JC081</td>\n",
       "      <td>Washington St</td>\n",
       "      <td>JC098</td>\n",
       "      <td>40.726012</td>\n",
       "      <td>-74.050389</td>\n",
       "      <td>40.724294</td>\n",
       "      <td>-74.035483</td>\n",
       "      <td>member</td>\n",
       "    </tr>\n",
       "    <tr>\n",
       "      <th>...</th>\n",
       "      <td>...</td>\n",
       "      <td>...</td>\n",
       "      <td>...</td>\n",
       "      <td>...</td>\n",
       "      <td>...</td>\n",
       "      <td>...</td>\n",
       "      <td>...</td>\n",
       "      <td>...</td>\n",
       "      <td>...</td>\n",
       "      <td>...</td>\n",
       "      <td>...</td>\n",
       "      <td>...</td>\n",
       "      <td>...</td>\n",
       "    </tr>\n",
       "    <tr>\n",
       "      <th>118302</th>\n",
       "      <td>4FBD994F1648B362</td>\n",
       "      <td>electric_bike</td>\n",
       "      <td>2024-10-20 09:59:13.554</td>\n",
       "      <td>2024-10-20 10:08:13.706</td>\n",
       "      <td>Hoboken Ave at Monmouth St</td>\n",
       "      <td>JC105</td>\n",
       "      <td>River St &amp; 1 St</td>\n",
       "      <td>HB609</td>\n",
       "      <td>40.735208</td>\n",
       "      <td>-74.046964</td>\n",
       "      <td>40.737215</td>\n",
       "      <td>-74.028865</td>\n",
       "      <td>casual</td>\n",
       "    </tr>\n",
       "    <tr>\n",
       "      <th>118303</th>\n",
       "      <td>204041F23ECD28F1</td>\n",
       "      <td>electric_bike</td>\n",
       "      <td>2024-10-02 18:02:16.294</td>\n",
       "      <td>2024-10-02 18:09:23.766</td>\n",
       "      <td>Hoboken Ave at Monmouth St</td>\n",
       "      <td>JC105</td>\n",
       "      <td>River St &amp; 1 St</td>\n",
       "      <td>HB609</td>\n",
       "      <td>40.735208</td>\n",
       "      <td>-74.046964</td>\n",
       "      <td>40.737215</td>\n",
       "      <td>-74.028865</td>\n",
       "      <td>member</td>\n",
       "    </tr>\n",
       "    <tr>\n",
       "      <th>118304</th>\n",
       "      <td>49D3FDDA6932091C</td>\n",
       "      <td>classic_bike</td>\n",
       "      <td>2024-10-12 14:37:23.192</td>\n",
       "      <td>2024-10-12 14:45:56.088</td>\n",
       "      <td>Hoboken Ave at Monmouth St</td>\n",
       "      <td>JC105</td>\n",
       "      <td>River St &amp; 1 St</td>\n",
       "      <td>HB609</td>\n",
       "      <td>40.735208</td>\n",
       "      <td>-74.046964</td>\n",
       "      <td>40.737215</td>\n",
       "      <td>-74.028865</td>\n",
       "      <td>member</td>\n",
       "    </tr>\n",
       "    <tr>\n",
       "      <th>118305</th>\n",
       "      <td>DABDE1AAF41AFACB</td>\n",
       "      <td>electric_bike</td>\n",
       "      <td>2024-10-20 13:31:30.895</td>\n",
       "      <td>2024-10-20 13:41:10.722</td>\n",
       "      <td>Hoboken Ave at Monmouth St</td>\n",
       "      <td>JC105</td>\n",
       "      <td>River St &amp; 1 St</td>\n",
       "      <td>HB609</td>\n",
       "      <td>40.735208</td>\n",
       "      <td>-74.046964</td>\n",
       "      <td>40.737215</td>\n",
       "      <td>-74.028865</td>\n",
       "      <td>member</td>\n",
       "    </tr>\n",
       "    <tr>\n",
       "      <th>118306</th>\n",
       "      <td>144E2FB38A17608C</td>\n",
       "      <td>electric_bike</td>\n",
       "      <td>2024-10-01 10:42:19.480</td>\n",
       "      <td>2024-10-01 10:58:21.839</td>\n",
       "      <td>Hoboken Ave at Monmouth St</td>\n",
       "      <td>JC105</td>\n",
       "      <td>River St &amp; 1 St</td>\n",
       "      <td>HB609</td>\n",
       "      <td>40.735208</td>\n",
       "      <td>-74.046964</td>\n",
       "      <td>40.737215</td>\n",
       "      <td>-74.028865</td>\n",
       "      <td>member</td>\n",
       "    </tr>\n",
       "  </tbody>\n",
       "</table>\n",
       "<p>118307 rows × 13 columns</p>\n",
       "</div>"
      ],
      "text/plain": [
       "                 ride_id  rideable_type               started_at  \\\n",
       "0       172DBBFC733F03CE  electric_bike  2024-10-10 14:54:24.572   \n",
       "1       D20BBA4860FE736C  electric_bike  2024-10-03 19:20:21.215   \n",
       "2       86F89348995D0E6E   classic_bike  2024-10-20 12:14:56.318   \n",
       "3       AA55A717B7EC1D10   classic_bike  2024-10-20 14:40:15.227   \n",
       "4       C72953D91E986DA7   classic_bike  2024-10-20 08:37:03.280   \n",
       "...                  ...            ...                      ...   \n",
       "118302  4FBD994F1648B362  electric_bike  2024-10-20 09:59:13.554   \n",
       "118303  204041F23ECD28F1  electric_bike  2024-10-02 18:02:16.294   \n",
       "118304  49D3FDDA6932091C   classic_bike  2024-10-12 14:37:23.192   \n",
       "118305  DABDE1AAF41AFACB  electric_bike  2024-10-20 13:31:30.895   \n",
       "118306  144E2FB38A17608C  electric_bike  2024-10-01 10:42:19.480   \n",
       "\n",
       "                       ended_at          start_station_name start_station_id  \\\n",
       "0       2024-10-10 15:04:07.657                 Oakland Ave            JC022   \n",
       "1       2024-10-03 19:31:46.511                 Oakland Ave            JC022   \n",
       "2       2024-10-20 12:28:32.053                 Oakland Ave            JC022   \n",
       "3       2024-10-20 14:55:39.100                 Oakland Ave            JC022   \n",
       "4       2024-10-20 08:42:24.770             Brunswick & 6th            JC081   \n",
       "...                         ...                         ...              ...   \n",
       "118302  2024-10-20 10:08:13.706  Hoboken Ave at Monmouth St            JC105   \n",
       "118303  2024-10-02 18:09:23.766  Hoboken Ave at Monmouth St            JC105   \n",
       "118304  2024-10-12 14:45:56.088  Hoboken Ave at Monmouth St            JC105   \n",
       "118305  2024-10-20 13:41:10.722  Hoboken Ave at Monmouth St            JC105   \n",
       "118306  2024-10-01 10:58:21.839  Hoboken Ave at Monmouth St            JC105   \n",
       "\n",
       "                                    end_station_name end_station_id  \\\n",
       "0                         Stevens - River Ter & 6 St          HB602   \n",
       "1                         Stevens - River Ter & 6 St          HB602   \n",
       "2       South Waterfront Walkway - Sinatra Dr & 1 St          HB103   \n",
       "3                                     Columbus Drive          JC014   \n",
       "4                                      Washington St          JC098   \n",
       "...                                              ...            ...   \n",
       "118302                               River St & 1 St          HB609   \n",
       "118303                               River St & 1 St          HB609   \n",
       "118304                               River St & 1 St          HB609   \n",
       "118305                               River St & 1 St          HB609   \n",
       "118306                               River St & 1 St          HB609   \n",
       "\n",
       "        start_lat  start_lng    end_lat    end_lng member_casual  \n",
       "0       40.737604 -74.052478  40.743133 -74.026989        member  \n",
       "1       40.737604 -74.052478  40.743133 -74.026989        casual  \n",
       "2       40.737604 -74.052478  40.736982 -74.027781        casual  \n",
       "3       40.737604 -74.052478  40.718355 -74.038914        member  \n",
       "4       40.726012 -74.050389  40.724294 -74.035483        member  \n",
       "...           ...        ...        ...        ...           ...  \n",
       "118302  40.735208 -74.046964  40.737215 -74.028865        casual  \n",
       "118303  40.735208 -74.046964  40.737215 -74.028865        member  \n",
       "118304  40.735208 -74.046964  40.737215 -74.028865        member  \n",
       "118305  40.735208 -74.046964  40.737215 -74.028865        member  \n",
       "118306  40.735208 -74.046964  40.737215 -74.028865        member  \n",
       "\n",
       "[118307 rows x 13 columns]"
      ]
     },
     "execution_count": 50,
     "metadata": {},
     "output_type": "execute_result"
    }
   ],
   "source": [
    "import pandas as pd\n",
    "\n",
    "df = pd.read_csv('JC-202410-citibike-tripdata.csv')\n",
    "df"
   ]
  },
  {
   "cell_type": "code",
   "execution_count": 51,
   "metadata": {},
   "outputs": [
    {
     "name": "stdout",
     "output_type": "stream",
     "text": [
      "<class 'pandas.core.frame.DataFrame'>\n",
      "RangeIndex: 118307 entries, 0 to 118306\n",
      "Data columns (total 13 columns):\n",
      " #   Column              Non-Null Count   Dtype  \n",
      "---  ------              --------------   -----  \n",
      " 0   ride_id             118307 non-null  object \n",
      " 1   rideable_type       118307 non-null  object \n",
      " 2   started_at          118307 non-null  object \n",
      " 3   ended_at            118307 non-null  object \n",
      " 4   start_station_name  118305 non-null  object \n",
      " 5   start_station_id    118305 non-null  object \n",
      " 6   end_station_name    118052 non-null  object \n",
      " 7   end_station_id      118017 non-null  object \n",
      " 8   start_lat           118307 non-null  float64\n",
      " 9   start_lng           118307 non-null  float64\n",
      " 10  end_lat             118281 non-null  float64\n",
      " 11  end_lng             118281 non-null  float64\n",
      " 12  member_casual       118307 non-null  object \n",
      "dtypes: float64(4), object(9)\n",
      "memory usage: 11.7+ MB\n"
     ]
    }
   ],
   "source": [
    "df.info()"
   ]
  },
  {
   "cell_type": "code",
   "execution_count": 52,
   "metadata": {},
   "outputs": [
    {
     "data": {
      "text/plain": [
       "Index(['ride_id', 'rideable_type', 'started_at', 'ended_at',\n",
       "       'start_station_name', 'start_station_id', 'end_station_name',\n",
       "       'end_station_id', 'start_lat', 'start_lng', 'end_lat', 'end_lng',\n",
       "       'member_casual'],\n",
       "      dtype='object')"
      ]
     },
     "execution_count": 52,
     "metadata": {},
     "output_type": "execute_result"
    }
   ],
   "source": [
    "df.columns"
   ]
  },
  {
   "cell_type": "code",
   "execution_count": 53,
   "metadata": {},
   "outputs": [
    {
     "data": {
      "text/html": [
       "<div>\n",
       "<style scoped>\n",
       "    .dataframe tbody tr th:only-of-type {\n",
       "        vertical-align: middle;\n",
       "    }\n",
       "\n",
       "    .dataframe tbody tr th {\n",
       "        vertical-align: top;\n",
       "    }\n",
       "\n",
       "    .dataframe thead th {\n",
       "        text-align: right;\n",
       "    }\n",
       "</style>\n",
       "<table border=\"1\" class=\"dataframe\">\n",
       "  <thead>\n",
       "    <tr style=\"text-align: right;\">\n",
       "      <th></th>\n",
       "      <th>ride_id</th>\n",
       "      <th>rideable_type</th>\n",
       "      <th>started_at</th>\n",
       "      <th>ended_at</th>\n",
       "      <th>start_station_name</th>\n",
       "      <th>start_station_id</th>\n",
       "      <th>end_station_name</th>\n",
       "      <th>end_station_id</th>\n",
       "      <th>start_lat</th>\n",
       "      <th>start_lng</th>\n",
       "      <th>end_lat</th>\n",
       "      <th>end_lng</th>\n",
       "      <th>member_casual</th>\n",
       "    </tr>\n",
       "  </thead>\n",
       "  <tbody>\n",
       "    <tr>\n",
       "      <th>0</th>\n",
       "      <td>172DBBFC733F03CE</td>\n",
       "      <td>electric_bike</td>\n",
       "      <td>2024-10-10 14:54:24.572</td>\n",
       "      <td>2024-10-10 15:04:07.657</td>\n",
       "      <td>Oakland Ave</td>\n",
       "      <td>JC022</td>\n",
       "      <td>Stevens - River Ter &amp; 6 St</td>\n",
       "      <td>HB602</td>\n",
       "      <td>40.737604</td>\n",
       "      <td>-74.052478</td>\n",
       "      <td>40.743133</td>\n",
       "      <td>-74.026989</td>\n",
       "      <td>member</td>\n",
       "    </tr>\n",
       "    <tr>\n",
       "      <th>1</th>\n",
       "      <td>D20BBA4860FE736C</td>\n",
       "      <td>electric_bike</td>\n",
       "      <td>2024-10-03 19:20:21.215</td>\n",
       "      <td>2024-10-03 19:31:46.511</td>\n",
       "      <td>Oakland Ave</td>\n",
       "      <td>JC022</td>\n",
       "      <td>Stevens - River Ter &amp; 6 St</td>\n",
       "      <td>HB602</td>\n",
       "      <td>40.737604</td>\n",
       "      <td>-74.052478</td>\n",
       "      <td>40.743133</td>\n",
       "      <td>-74.026989</td>\n",
       "      <td>casual</td>\n",
       "    </tr>\n",
       "    <tr>\n",
       "      <th>2</th>\n",
       "      <td>86F89348995D0E6E</td>\n",
       "      <td>classic_bike</td>\n",
       "      <td>2024-10-20 12:14:56.318</td>\n",
       "      <td>2024-10-20 12:28:32.053</td>\n",
       "      <td>Oakland Ave</td>\n",
       "      <td>JC022</td>\n",
       "      <td>South Waterfront Walkway - Sinatra Dr &amp; 1 St</td>\n",
       "      <td>HB103</td>\n",
       "      <td>40.737604</td>\n",
       "      <td>-74.052478</td>\n",
       "      <td>40.736982</td>\n",
       "      <td>-74.027781</td>\n",
       "      <td>casual</td>\n",
       "    </tr>\n",
       "    <tr>\n",
       "      <th>3</th>\n",
       "      <td>AA55A717B7EC1D10</td>\n",
       "      <td>classic_bike</td>\n",
       "      <td>2024-10-20 14:40:15.227</td>\n",
       "      <td>2024-10-20 14:55:39.100</td>\n",
       "      <td>Oakland Ave</td>\n",
       "      <td>JC022</td>\n",
       "      <td>Columbus Drive</td>\n",
       "      <td>JC014</td>\n",
       "      <td>40.737604</td>\n",
       "      <td>-74.052478</td>\n",
       "      <td>40.718355</td>\n",
       "      <td>-74.038914</td>\n",
       "      <td>member</td>\n",
       "    </tr>\n",
       "    <tr>\n",
       "      <th>4</th>\n",
       "      <td>C72953D91E986DA7</td>\n",
       "      <td>classic_bike</td>\n",
       "      <td>2024-10-20 08:37:03.280</td>\n",
       "      <td>2024-10-20 08:42:24.770</td>\n",
       "      <td>Brunswick &amp; 6th</td>\n",
       "      <td>JC081</td>\n",
       "      <td>Washington St</td>\n",
       "      <td>JC098</td>\n",
       "      <td>40.726012</td>\n",
       "      <td>-74.050389</td>\n",
       "      <td>40.724294</td>\n",
       "      <td>-74.035483</td>\n",
       "      <td>member</td>\n",
       "    </tr>\n",
       "    <tr>\n",
       "      <th>5</th>\n",
       "      <td>23A1827EA03A9AC2</td>\n",
       "      <td>electric_bike</td>\n",
       "      <td>2024-10-28 19:20:28.668</td>\n",
       "      <td>2024-10-28 19:25:28.448</td>\n",
       "      <td>Oakland Ave</td>\n",
       "      <td>JC022</td>\n",
       "      <td>Hoboken Ave at Monmouth St</td>\n",
       "      <td>JC105</td>\n",
       "      <td>40.737604</td>\n",
       "      <td>-74.052478</td>\n",
       "      <td>40.735208</td>\n",
       "      <td>-74.046964</td>\n",
       "      <td>member</td>\n",
       "    </tr>\n",
       "    <tr>\n",
       "      <th>6</th>\n",
       "      <td>6C0E882AE20AC640</td>\n",
       "      <td>electric_bike</td>\n",
       "      <td>2024-10-08 10:41:37.926</td>\n",
       "      <td>2024-10-08 10:44:23.533</td>\n",
       "      <td>Pershing Field</td>\n",
       "      <td>JC024</td>\n",
       "      <td>Leonard Gordon Park</td>\n",
       "      <td>JC080</td>\n",
       "      <td>40.742677</td>\n",
       "      <td>-74.051789</td>\n",
       "      <td>40.745910</td>\n",
       "      <td>-74.057271</td>\n",
       "      <td>member</td>\n",
       "    </tr>\n",
       "    <tr>\n",
       "      <th>7</th>\n",
       "      <td>FC4AEE485D39016D</td>\n",
       "      <td>electric_bike</td>\n",
       "      <td>2024-10-25 21:02:40.878</td>\n",
       "      <td>2024-10-25 21:11:00.117</td>\n",
       "      <td>Pershing Field</td>\n",
       "      <td>JC024</td>\n",
       "      <td>Leonard Gordon Park</td>\n",
       "      <td>JC080</td>\n",
       "      <td>40.742677</td>\n",
       "      <td>-74.051789</td>\n",
       "      <td>40.745910</td>\n",
       "      <td>-74.057271</td>\n",
       "      <td>member</td>\n",
       "    </tr>\n",
       "    <tr>\n",
       "      <th>8</th>\n",
       "      <td>3E4D96936A8660C6</td>\n",
       "      <td>electric_bike</td>\n",
       "      <td>2024-10-08 12:17:23.948</td>\n",
       "      <td>2024-10-08 12:20:47.035</td>\n",
       "      <td>City Hall - Washington St &amp; 1 St</td>\n",
       "      <td>HB105</td>\n",
       "      <td>Stevens - River Ter &amp; 6 St</td>\n",
       "      <td>HB602</td>\n",
       "      <td>40.737360</td>\n",
       "      <td>-74.030970</td>\n",
       "      <td>40.743133</td>\n",
       "      <td>-74.026989</td>\n",
       "      <td>member</td>\n",
       "    </tr>\n",
       "    <tr>\n",
       "      <th>9</th>\n",
       "      <td>9F2FBA8132468A3B</td>\n",
       "      <td>electric_bike</td>\n",
       "      <td>2024-10-28 11:00:40.004</td>\n",
       "      <td>2024-10-28 11:03:12.823</td>\n",
       "      <td>City Hall - Washington St &amp; 1 St</td>\n",
       "      <td>HB105</td>\n",
       "      <td>Stevens - River Ter &amp; 6 St</td>\n",
       "      <td>HB602</td>\n",
       "      <td>40.737360</td>\n",
       "      <td>-74.030970</td>\n",
       "      <td>40.743133</td>\n",
       "      <td>-74.026989</td>\n",
       "      <td>member</td>\n",
       "    </tr>\n",
       "  </tbody>\n",
       "</table>\n",
       "</div>"
      ],
      "text/plain": [
       "            ride_id  rideable_type               started_at  \\\n",
       "0  172DBBFC733F03CE  electric_bike  2024-10-10 14:54:24.572   \n",
       "1  D20BBA4860FE736C  electric_bike  2024-10-03 19:20:21.215   \n",
       "2  86F89348995D0E6E   classic_bike  2024-10-20 12:14:56.318   \n",
       "3  AA55A717B7EC1D10   classic_bike  2024-10-20 14:40:15.227   \n",
       "4  C72953D91E986DA7   classic_bike  2024-10-20 08:37:03.280   \n",
       "5  23A1827EA03A9AC2  electric_bike  2024-10-28 19:20:28.668   \n",
       "6  6C0E882AE20AC640  electric_bike  2024-10-08 10:41:37.926   \n",
       "7  FC4AEE485D39016D  electric_bike  2024-10-25 21:02:40.878   \n",
       "8  3E4D96936A8660C6  electric_bike  2024-10-08 12:17:23.948   \n",
       "9  9F2FBA8132468A3B  electric_bike  2024-10-28 11:00:40.004   \n",
       "\n",
       "                  ended_at                start_station_name start_station_id  \\\n",
       "0  2024-10-10 15:04:07.657                       Oakland Ave            JC022   \n",
       "1  2024-10-03 19:31:46.511                       Oakland Ave            JC022   \n",
       "2  2024-10-20 12:28:32.053                       Oakland Ave            JC022   \n",
       "3  2024-10-20 14:55:39.100                       Oakland Ave            JC022   \n",
       "4  2024-10-20 08:42:24.770                   Brunswick & 6th            JC081   \n",
       "5  2024-10-28 19:25:28.448                       Oakland Ave            JC022   \n",
       "6  2024-10-08 10:44:23.533                    Pershing Field            JC024   \n",
       "7  2024-10-25 21:11:00.117                    Pershing Field            JC024   \n",
       "8  2024-10-08 12:20:47.035  City Hall - Washington St & 1 St            HB105   \n",
       "9  2024-10-28 11:03:12.823  City Hall - Washington St & 1 St            HB105   \n",
       "\n",
       "                               end_station_name end_station_id  start_lat  \\\n",
       "0                    Stevens - River Ter & 6 St          HB602  40.737604   \n",
       "1                    Stevens - River Ter & 6 St          HB602  40.737604   \n",
       "2  South Waterfront Walkway - Sinatra Dr & 1 St          HB103  40.737604   \n",
       "3                                Columbus Drive          JC014  40.737604   \n",
       "4                                 Washington St          JC098  40.726012   \n",
       "5                    Hoboken Ave at Monmouth St          JC105  40.737604   \n",
       "6                           Leonard Gordon Park          JC080  40.742677   \n",
       "7                           Leonard Gordon Park          JC080  40.742677   \n",
       "8                    Stevens - River Ter & 6 St          HB602  40.737360   \n",
       "9                    Stevens - River Ter & 6 St          HB602  40.737360   \n",
       "\n",
       "   start_lng    end_lat    end_lng member_casual  \n",
       "0 -74.052478  40.743133 -74.026989        member  \n",
       "1 -74.052478  40.743133 -74.026989        casual  \n",
       "2 -74.052478  40.736982 -74.027781        casual  \n",
       "3 -74.052478  40.718355 -74.038914        member  \n",
       "4 -74.050389  40.724294 -74.035483        member  \n",
       "5 -74.052478  40.735208 -74.046964        member  \n",
       "6 -74.051789  40.745910 -74.057271        member  \n",
       "7 -74.051789  40.745910 -74.057271        member  \n",
       "8 -74.030970  40.743133 -74.026989        member  \n",
       "9 -74.030970  40.743133 -74.026989        member  "
      ]
     },
     "execution_count": 53,
     "metadata": {},
     "output_type": "execute_result"
    }
   ],
   "source": [
    "df.head(n=10)"
   ]
  },
  {
   "cell_type": "code",
   "execution_count": 54,
   "metadata": {},
   "outputs": [
    {
     "data": {
      "text/html": [
       "<div>\n",
       "<style scoped>\n",
       "    .dataframe tbody tr th:only-of-type {\n",
       "        vertical-align: middle;\n",
       "    }\n",
       "\n",
       "    .dataframe tbody tr th {\n",
       "        vertical-align: top;\n",
       "    }\n",
       "\n",
       "    .dataframe thead th {\n",
       "        text-align: right;\n",
       "    }\n",
       "</style>\n",
       "<table border=\"1\" class=\"dataframe\">\n",
       "  <thead>\n",
       "    <tr style=\"text-align: right;\">\n",
       "      <th></th>\n",
       "      <th>ride_id</th>\n",
       "      <th>rideable_type</th>\n",
       "      <th>started_at</th>\n",
       "      <th>ended_at</th>\n",
       "      <th>start_station_name</th>\n",
       "      <th>start_station_id</th>\n",
       "      <th>end_station_name</th>\n",
       "      <th>end_station_id</th>\n",
       "      <th>start_lat</th>\n",
       "      <th>start_lng</th>\n",
       "      <th>end_lat</th>\n",
       "      <th>end_lng</th>\n",
       "      <th>member_casual</th>\n",
       "    </tr>\n",
       "  </thead>\n",
       "  <tbody>\n",
       "    <tr>\n",
       "      <th>118297</th>\n",
       "      <td>87D28FEEE090BDBC</td>\n",
       "      <td>classic_bike</td>\n",
       "      <td>2024-10-02 18:10:41.961</td>\n",
       "      <td>2024-10-02 18:19:22.370</td>\n",
       "      <td>Hoboken Ave at Monmouth St</td>\n",
       "      <td>JC105</td>\n",
       "      <td>River St &amp; 1 St</td>\n",
       "      <td>HB609</td>\n",
       "      <td>40.735208</td>\n",
       "      <td>-74.046964</td>\n",
       "      <td>40.737215</td>\n",
       "      <td>-74.028865</td>\n",
       "      <td>casual</td>\n",
       "    </tr>\n",
       "    <tr>\n",
       "      <th>118298</th>\n",
       "      <td>69DDFA6D0CF78A55</td>\n",
       "      <td>electric_bike</td>\n",
       "      <td>2024-10-18 12:37:21.345</td>\n",
       "      <td>2024-10-18 12:46:29.991</td>\n",
       "      <td>Hoboken Ave at Monmouth St</td>\n",
       "      <td>JC105</td>\n",
       "      <td>River St &amp; 1 St</td>\n",
       "      <td>HB609</td>\n",
       "      <td>40.735208</td>\n",
       "      <td>-74.046964</td>\n",
       "      <td>40.737215</td>\n",
       "      <td>-74.028865</td>\n",
       "      <td>casual</td>\n",
       "    </tr>\n",
       "    <tr>\n",
       "      <th>118299</th>\n",
       "      <td>29D3BBE6248000EE</td>\n",
       "      <td>electric_bike</td>\n",
       "      <td>2024-10-19 15:08:56.937</td>\n",
       "      <td>2024-10-19 15:19:36.286</td>\n",
       "      <td>Hoboken Ave at Monmouth St</td>\n",
       "      <td>JC105</td>\n",
       "      <td>River St &amp; 1 St</td>\n",
       "      <td>HB609</td>\n",
       "      <td>40.735208</td>\n",
       "      <td>-74.046964</td>\n",
       "      <td>40.737215</td>\n",
       "      <td>-74.028865</td>\n",
       "      <td>casual</td>\n",
       "    </tr>\n",
       "    <tr>\n",
       "      <th>118300</th>\n",
       "      <td>74CBA308A0656463</td>\n",
       "      <td>classic_bike</td>\n",
       "      <td>2024-10-05 16:11:51.606</td>\n",
       "      <td>2024-10-05 16:21:49.360</td>\n",
       "      <td>Hoboken Ave at Monmouth St</td>\n",
       "      <td>JC105</td>\n",
       "      <td>River St &amp; 1 St</td>\n",
       "      <td>HB609</td>\n",
       "      <td>40.735208</td>\n",
       "      <td>-74.046964</td>\n",
       "      <td>40.737215</td>\n",
       "      <td>-74.028865</td>\n",
       "      <td>casual</td>\n",
       "    </tr>\n",
       "    <tr>\n",
       "      <th>118301</th>\n",
       "      <td>7D68602BFA844363</td>\n",
       "      <td>classic_bike</td>\n",
       "      <td>2024-10-07 17:45:19.472</td>\n",
       "      <td>2024-10-07 17:53:24.086</td>\n",
       "      <td>Hoboken Ave at Monmouth St</td>\n",
       "      <td>JC105</td>\n",
       "      <td>River St &amp; 1 St</td>\n",
       "      <td>HB609</td>\n",
       "      <td>40.735208</td>\n",
       "      <td>-74.046964</td>\n",
       "      <td>40.737215</td>\n",
       "      <td>-74.028865</td>\n",
       "      <td>casual</td>\n",
       "    </tr>\n",
       "    <tr>\n",
       "      <th>118302</th>\n",
       "      <td>4FBD994F1648B362</td>\n",
       "      <td>electric_bike</td>\n",
       "      <td>2024-10-20 09:59:13.554</td>\n",
       "      <td>2024-10-20 10:08:13.706</td>\n",
       "      <td>Hoboken Ave at Monmouth St</td>\n",
       "      <td>JC105</td>\n",
       "      <td>River St &amp; 1 St</td>\n",
       "      <td>HB609</td>\n",
       "      <td>40.735208</td>\n",
       "      <td>-74.046964</td>\n",
       "      <td>40.737215</td>\n",
       "      <td>-74.028865</td>\n",
       "      <td>casual</td>\n",
       "    </tr>\n",
       "    <tr>\n",
       "      <th>118303</th>\n",
       "      <td>204041F23ECD28F1</td>\n",
       "      <td>electric_bike</td>\n",
       "      <td>2024-10-02 18:02:16.294</td>\n",
       "      <td>2024-10-02 18:09:23.766</td>\n",
       "      <td>Hoboken Ave at Monmouth St</td>\n",
       "      <td>JC105</td>\n",
       "      <td>River St &amp; 1 St</td>\n",
       "      <td>HB609</td>\n",
       "      <td>40.735208</td>\n",
       "      <td>-74.046964</td>\n",
       "      <td>40.737215</td>\n",
       "      <td>-74.028865</td>\n",
       "      <td>member</td>\n",
       "    </tr>\n",
       "    <tr>\n",
       "      <th>118304</th>\n",
       "      <td>49D3FDDA6932091C</td>\n",
       "      <td>classic_bike</td>\n",
       "      <td>2024-10-12 14:37:23.192</td>\n",
       "      <td>2024-10-12 14:45:56.088</td>\n",
       "      <td>Hoboken Ave at Monmouth St</td>\n",
       "      <td>JC105</td>\n",
       "      <td>River St &amp; 1 St</td>\n",
       "      <td>HB609</td>\n",
       "      <td>40.735208</td>\n",
       "      <td>-74.046964</td>\n",
       "      <td>40.737215</td>\n",
       "      <td>-74.028865</td>\n",
       "      <td>member</td>\n",
       "    </tr>\n",
       "    <tr>\n",
       "      <th>118305</th>\n",
       "      <td>DABDE1AAF41AFACB</td>\n",
       "      <td>electric_bike</td>\n",
       "      <td>2024-10-20 13:31:30.895</td>\n",
       "      <td>2024-10-20 13:41:10.722</td>\n",
       "      <td>Hoboken Ave at Monmouth St</td>\n",
       "      <td>JC105</td>\n",
       "      <td>River St &amp; 1 St</td>\n",
       "      <td>HB609</td>\n",
       "      <td>40.735208</td>\n",
       "      <td>-74.046964</td>\n",
       "      <td>40.737215</td>\n",
       "      <td>-74.028865</td>\n",
       "      <td>member</td>\n",
       "    </tr>\n",
       "    <tr>\n",
       "      <th>118306</th>\n",
       "      <td>144E2FB38A17608C</td>\n",
       "      <td>electric_bike</td>\n",
       "      <td>2024-10-01 10:42:19.480</td>\n",
       "      <td>2024-10-01 10:58:21.839</td>\n",
       "      <td>Hoboken Ave at Monmouth St</td>\n",
       "      <td>JC105</td>\n",
       "      <td>River St &amp; 1 St</td>\n",
       "      <td>HB609</td>\n",
       "      <td>40.735208</td>\n",
       "      <td>-74.046964</td>\n",
       "      <td>40.737215</td>\n",
       "      <td>-74.028865</td>\n",
       "      <td>member</td>\n",
       "    </tr>\n",
       "  </tbody>\n",
       "</table>\n",
       "</div>"
      ],
      "text/plain": [
       "                 ride_id  rideable_type               started_at  \\\n",
       "118297  87D28FEEE090BDBC   classic_bike  2024-10-02 18:10:41.961   \n",
       "118298  69DDFA6D0CF78A55  electric_bike  2024-10-18 12:37:21.345   \n",
       "118299  29D3BBE6248000EE  electric_bike  2024-10-19 15:08:56.937   \n",
       "118300  74CBA308A0656463   classic_bike  2024-10-05 16:11:51.606   \n",
       "118301  7D68602BFA844363   classic_bike  2024-10-07 17:45:19.472   \n",
       "118302  4FBD994F1648B362  electric_bike  2024-10-20 09:59:13.554   \n",
       "118303  204041F23ECD28F1  electric_bike  2024-10-02 18:02:16.294   \n",
       "118304  49D3FDDA6932091C   classic_bike  2024-10-12 14:37:23.192   \n",
       "118305  DABDE1AAF41AFACB  electric_bike  2024-10-20 13:31:30.895   \n",
       "118306  144E2FB38A17608C  electric_bike  2024-10-01 10:42:19.480   \n",
       "\n",
       "                       ended_at          start_station_name start_station_id  \\\n",
       "118297  2024-10-02 18:19:22.370  Hoboken Ave at Monmouth St            JC105   \n",
       "118298  2024-10-18 12:46:29.991  Hoboken Ave at Monmouth St            JC105   \n",
       "118299  2024-10-19 15:19:36.286  Hoboken Ave at Monmouth St            JC105   \n",
       "118300  2024-10-05 16:21:49.360  Hoboken Ave at Monmouth St            JC105   \n",
       "118301  2024-10-07 17:53:24.086  Hoboken Ave at Monmouth St            JC105   \n",
       "118302  2024-10-20 10:08:13.706  Hoboken Ave at Monmouth St            JC105   \n",
       "118303  2024-10-02 18:09:23.766  Hoboken Ave at Monmouth St            JC105   \n",
       "118304  2024-10-12 14:45:56.088  Hoboken Ave at Monmouth St            JC105   \n",
       "118305  2024-10-20 13:41:10.722  Hoboken Ave at Monmouth St            JC105   \n",
       "118306  2024-10-01 10:58:21.839  Hoboken Ave at Monmouth St            JC105   \n",
       "\n",
       "       end_station_name end_station_id  start_lat  start_lng    end_lat  \\\n",
       "118297  River St & 1 St          HB609  40.735208 -74.046964  40.737215   \n",
       "118298  River St & 1 St          HB609  40.735208 -74.046964  40.737215   \n",
       "118299  River St & 1 St          HB609  40.735208 -74.046964  40.737215   \n",
       "118300  River St & 1 St          HB609  40.735208 -74.046964  40.737215   \n",
       "118301  River St & 1 St          HB609  40.735208 -74.046964  40.737215   \n",
       "118302  River St & 1 St          HB609  40.735208 -74.046964  40.737215   \n",
       "118303  River St & 1 St          HB609  40.735208 -74.046964  40.737215   \n",
       "118304  River St & 1 St          HB609  40.735208 -74.046964  40.737215   \n",
       "118305  River St & 1 St          HB609  40.735208 -74.046964  40.737215   \n",
       "118306  River St & 1 St          HB609  40.735208 -74.046964  40.737215   \n",
       "\n",
       "          end_lng member_casual  \n",
       "118297 -74.028865        casual  \n",
       "118298 -74.028865        casual  \n",
       "118299 -74.028865        casual  \n",
       "118300 -74.028865        casual  \n",
       "118301 -74.028865        casual  \n",
       "118302 -74.028865        casual  \n",
       "118303 -74.028865        member  \n",
       "118304 -74.028865        member  \n",
       "118305 -74.028865        member  \n",
       "118306 -74.028865        member  "
      ]
     },
     "execution_count": 54,
     "metadata": {},
     "output_type": "execute_result"
    }
   ],
   "source": [
    "df.tail(n=10)"
   ]
  },
  {
   "cell_type": "code",
   "execution_count": 55,
   "metadata": {},
   "outputs": [
    {
     "data": {
      "text/html": [
       "<div>\n",
       "<style scoped>\n",
       "    .dataframe tbody tr th:only-of-type {\n",
       "        vertical-align: middle;\n",
       "    }\n",
       "\n",
       "    .dataframe tbody tr th {\n",
       "        vertical-align: top;\n",
       "    }\n",
       "\n",
       "    .dataframe thead th {\n",
       "        text-align: right;\n",
       "    }\n",
       "</style>\n",
       "<table border=\"1\" class=\"dataframe\">\n",
       "  <thead>\n",
       "    <tr style=\"text-align: right;\">\n",
       "      <th></th>\n",
       "      <th>start_lat</th>\n",
       "      <th>start_lng</th>\n",
       "      <th>end_lat</th>\n",
       "      <th>end_lng</th>\n",
       "    </tr>\n",
       "  </thead>\n",
       "  <tbody>\n",
       "    <tr>\n",
       "      <th>count</th>\n",
       "      <td>118307.000000</td>\n",
       "      <td>118307.000000</td>\n",
       "      <td>118281.000000</td>\n",
       "      <td>118281.000000</td>\n",
       "    </tr>\n",
       "    <tr>\n",
       "      <th>mean</th>\n",
       "      <td>40.732992</td>\n",
       "      <td>-74.039525</td>\n",
       "      <td>40.732966</td>\n",
       "      <td>-74.039250</td>\n",
       "    </tr>\n",
       "    <tr>\n",
       "      <th>std</th>\n",
       "      <td>0.012156</td>\n",
       "      <td>0.011791</td>\n",
       "      <td>0.012236</td>\n",
       "      <td>0.011877</td>\n",
       "    </tr>\n",
       "    <tr>\n",
       "      <th>min</th>\n",
       "      <td>40.706575</td>\n",
       "      <td>-74.086701</td>\n",
       "      <td>40.686371</td>\n",
       "      <td>-74.100000</td>\n",
       "    </tr>\n",
       "    <tr>\n",
       "      <th>25%</th>\n",
       "      <td>40.721630</td>\n",
       "      <td>-74.044247</td>\n",
       "      <td>40.721525</td>\n",
       "      <td>-74.044247</td>\n",
       "    </tr>\n",
       "    <tr>\n",
       "      <th>50%</th>\n",
       "      <td>40.735938</td>\n",
       "      <td>-74.036486</td>\n",
       "      <td>40.735938</td>\n",
       "      <td>-74.035865</td>\n",
       "    </tr>\n",
       "    <tr>\n",
       "      <th>75%</th>\n",
       "      <td>40.742659</td>\n",
       "      <td>-74.030377</td>\n",
       "      <td>40.742659</td>\n",
       "      <td>-74.030377</td>\n",
       "    </tr>\n",
       "    <tr>\n",
       "      <th>max</th>\n",
       "      <td>40.754530</td>\n",
       "      <td>-74.024020</td>\n",
       "      <td>40.851680</td>\n",
       "      <td>-73.903865</td>\n",
       "    </tr>\n",
       "  </tbody>\n",
       "</table>\n",
       "</div>"
      ],
      "text/plain": [
       "           start_lat      start_lng        end_lat        end_lng\n",
       "count  118307.000000  118307.000000  118281.000000  118281.000000\n",
       "mean       40.732992     -74.039525      40.732966     -74.039250\n",
       "std         0.012156       0.011791       0.012236       0.011877\n",
       "min        40.706575     -74.086701      40.686371     -74.100000\n",
       "25%        40.721630     -74.044247      40.721525     -74.044247\n",
       "50%        40.735938     -74.036486      40.735938     -74.035865\n",
       "75%        40.742659     -74.030377      40.742659     -74.030377\n",
       "max        40.754530     -74.024020      40.851680     -73.903865"
      ]
     },
     "execution_count": 55,
     "metadata": {},
     "output_type": "execute_result"
    }
   ],
   "source": [
    "df.describe() # Attention! Some methods do not always make sense!"
   ]
  },
  {
   "cell_type": "code",
   "execution_count": 56,
   "metadata": {},
   "outputs": [
    {
     "data": {
      "text/plain": [
       "ride_id                         172DBBFC733F03CE\n",
       "rideable_type                      electric_bike\n",
       "started_at               2024-10-10 14:54:24.572\n",
       "ended_at                 2024-10-10 15:04:07.657\n",
       "start_station_name                   Oakland Ave\n",
       "start_station_id                           JC022\n",
       "end_station_name      Stevens - River Ter & 6 St\n",
       "end_station_id                             HB602\n",
       "start_lat                              40.737604\n",
       "start_lng                             -74.052478\n",
       "end_lat                                40.743133\n",
       "end_lng                               -74.026989\n",
       "member_casual                             member\n",
       "Name: 0, dtype: object"
      ]
     },
     "execution_count": 56,
     "metadata": {},
     "output_type": "execute_result"
    }
   ],
   "source": [
    "df.loc[0]"
   ]
  },
  {
   "cell_type": "code",
   "execution_count": 57,
   "metadata": {},
   "outputs": [
    {
     "data": {
      "text/plain": [
       "ride_id                         172DBBFC733F03CE\n",
       "rideable_type                      electric_bike\n",
       "started_at               2024-10-10 14:54:24.572\n",
       "ended_at                 2024-10-10 15:04:07.657\n",
       "start_station_name                   Oakland Ave\n",
       "start_station_id                           JC022\n",
       "end_station_name      Stevens - River Ter & 6 St\n",
       "end_station_id                             HB602\n",
       "start_lat                              40.737604\n",
       "start_lng                             -74.052478\n",
       "end_lat                                40.743133\n",
       "end_lng                               -74.026989\n",
       "member_casual                             member\n",
       "Name: 0, dtype: object"
      ]
     },
     "execution_count": 57,
     "metadata": {},
     "output_type": "execute_result"
    }
   ],
   "source": [
    "df.iloc[0]"
   ]
  },
  {
   "cell_type": "code",
   "execution_count": 58,
   "metadata": {},
   "outputs": [
    {
     "data": {
      "text/plain": [
       "0         member\n",
       "1         casual\n",
       "2         casual\n",
       "3         member\n",
       "4         member\n",
       "           ...  \n",
       "118302    casual\n",
       "118303    member\n",
       "118304    member\n",
       "118305    member\n",
       "118306    member\n",
       "Name: member_casual, Length: 118307, dtype: object"
      ]
     },
     "execution_count": 58,
     "metadata": {},
     "output_type": "execute_result"
    }
   ],
   "source": [
    "df.member_casual"
   ]
  },
  {
   "cell_type": "code",
   "execution_count": 59,
   "metadata": {},
   "outputs": [
    {
     "data": {
      "text/html": [
       "<div>\n",
       "<style scoped>\n",
       "    .dataframe tbody tr th:only-of-type {\n",
       "        vertical-align: middle;\n",
       "    }\n",
       "\n",
       "    .dataframe tbody tr th {\n",
       "        vertical-align: top;\n",
       "    }\n",
       "\n",
       "    .dataframe thead th {\n",
       "        text-align: right;\n",
       "    }\n",
       "</style>\n",
       "<table border=\"1\" class=\"dataframe\">\n",
       "  <thead>\n",
       "    <tr style=\"text-align: right;\">\n",
       "      <th></th>\n",
       "      <th>ride_id</th>\n",
       "      <th>rideable_type</th>\n",
       "      <th>started_at</th>\n",
       "      <th>ended_at</th>\n",
       "      <th>start_station_name</th>\n",
       "      <th>start_station_id</th>\n",
       "      <th>end_station_name</th>\n",
       "      <th>end_station_id</th>\n",
       "      <th>start_lat</th>\n",
       "      <th>start_lng</th>\n",
       "      <th>end_lat</th>\n",
       "      <th>end_lng</th>\n",
       "      <th>member_casual</th>\n",
       "    </tr>\n",
       "  </thead>\n",
       "  <tbody>\n",
       "    <tr>\n",
       "      <th>33419</th>\n",
       "      <td>0F1ED678EBA70EFD</td>\n",
       "      <td>classic_bike</td>\n",
       "      <td>2024-09-30 20:54:50.083</td>\n",
       "      <td>2024-10-01 18:59:02.214</td>\n",
       "      <td>Mama Johnson Field - 4 St &amp; Jackson St</td>\n",
       "      <td>HB404</td>\n",
       "      <td>Adams St &amp; 12 St</td>\n",
       "      <td>HB610</td>\n",
       "      <td>40.74314</td>\n",
       "      <td>-74.040041</td>\n",
       "      <td>40.751889</td>\n",
       "      <td>-74.033292</td>\n",
       "      <td>casual</td>\n",
       "    </tr>\n",
       "  </tbody>\n",
       "</table>\n",
       "</div>"
      ],
      "text/plain": [
       "                ride_id rideable_type               started_at  \\\n",
       "33419  0F1ED678EBA70EFD  classic_bike  2024-09-30 20:54:50.083   \n",
       "\n",
       "                      ended_at                      start_station_name  \\\n",
       "33419  2024-10-01 18:59:02.214  Mama Johnson Field - 4 St & Jackson St   \n",
       "\n",
       "      start_station_id  end_station_name end_station_id  start_lat  start_lng  \\\n",
       "33419            HB404  Adams St & 12 St          HB610   40.74314 -74.040041   \n",
       "\n",
       "         end_lat    end_lng member_casual  \n",
       "33419  40.751889 -74.033292        casual  "
      ]
     },
     "execution_count": 59,
     "metadata": {},
     "output_type": "execute_result"
    }
   ],
   "source": [
    "df.sort_values(by='started_at').head(n=1)"
   ]
  },
  {
   "cell_type": "markdown",
   "metadata": {},
   "source": [
    "## Lab assignments"
   ]
  },
  {
   "cell_type": "markdown",
   "metadata": {},
   "source": [
    "### Comma Code\n",
    "\n",
    "**Source:** https://automatetheboringstuff.com/2e/chapter4/\n",
    "\n",
    "Say you have a list value like this:\n",
    "\n",
    "```\n",
    "spam = ['apples', 'bananas', 'tofu', 'cats']\n",
    "``` \n",
    "\n",
    "Write a function that takes a list value as an argument and returns a string with all the items separated by a comma and a space, with and inserted before the last item. For example, passing the previous spam list to the function would return 'apples, bananas, tofu, and cats'. But your function should be able to work with any list value passed to it. Be sure to test the case where an empty list [] is passed to your function."
   ]
  },
  {
   "cell_type": "code",
   "execution_count": 67,
   "metadata": {},
   "outputs": [
    {
     "name": "stdout",
     "output_type": "stream",
     "text": [
      "apples, bananas, tofu and cats\n",
      "\n",
      "apples\n",
      "apples and bananas\n"
     ]
    }
   ],
   "source": [
    "# Function that takes a list value as an argument and returns a string with all the items\n",
    "def list_to_string(items):\n",
    "    if not items:  # Check if the list is empty\n",
    "        return \"\"\n",
    "    elif len(items) == 1:  # if there is only one item in the list\n",
    "        return items[0]\n",
    "    else:  # More than one item in the list\n",
    "        return \", \".join(items[:-1]) + \" and \" + items[-1]\n",
    "\n",
    "# Test case, more than 1 item\n",
    "spam = ['apples', 'bananas', 'tofu', 'cats']\n",
    "print(list_to_string(spam))\n",
    "\n",
    "# Test case, without item\n",
    "empty_list = []\n",
    "print(list_to_string(empty_list))\n",
    "\n",
    "# Test case, only 1 item\n",
    "single_item_list = ['apples']\n",
    "print(list_to_string(single_item_list))\n",
    "\n",
    "# Test case, more than 1 item\n",
    "two_items_list = ['apples', 'bananas']\n",
    "print(list_to_string(two_items_list))"
   ]
  },
  {
   "cell_type": "markdown",
   "metadata": {},
   "source": [
    "### Coin Flip Streaks\n",
    "\n",
    "**Source:** https://automatetheboringstuff.com/2e/chapter4/\n",
    "\n",
    "For this exercise, we’ll try doing an experiment. If you flip a coin 100 times and write down an “H” for each heads and “T” for each tails, you’ll create a list that looks like “T T T T H H H H T T.” If you ask a human to make up 100 random coin flips, you’ll probably end up with alternating head-tail results like “H T H T H H T H T T,” which looks random (to humans), but isn’t mathematically random. A human will almost never write down a streak of six heads or six tails in a row, even though it is highly likely to happen in truly random coin flips. Humans are predictably bad at being random.\n",
    "\n",
    "Write a program to find out how often a streak of six heads or a streak of six tails comes up in a randomly generated list of heads and tails. Your program breaks up the experiment into two parts: the first part generates a list of randomly selected 'heads' and 'tails' values, and the second part checks if there is a streak in it. Put all of this code in a loop that repeats the experiment 10,000 times so we can find out what percentage of the coin flips contains a streak of six heads or tails in a row. As a hint, the function call random.randint(0, 1) will return a 0 value 50% of the time and a 1 value the other 50% of the time.\n",
    "\n",
    "You can start with the following template:"
   ]
  },
  {
   "cell_type": "code",
   "execution_count": 80,
   "metadata": {},
   "outputs": [
    {
     "name": "stdout",
     "output_type": "stream",
     "text": [
      "Probability of a streak of 6 in a row in truly random sequences: 81.50%\n"
     ]
    }
   ],
   "source": [
    "import random\n",
    "\n",
    "def coin_flip():\n",
    "    numberOfStreaks = 0\n",
    "\n",
    "    for experimentNumber in range(10000):\n",
    "        # Generate a list of 100 random coin flips ('H' for heads, 'T' for tails)\n",
    "        coinFlips = [random.choice(['H', 'T']) for _ in range(100)]\n",
    "\n",
    "        # Check for streaks of 6 in a row\n",
    "        streak = 1\n",
    "        for i in range(1, len(coinFlips)):\n",
    "            if coinFlips[i] == coinFlips[i - 1]:\n",
    "                streak += 1\n",
    "                if streak == 6:  # Found a streak of 6\n",
    "                    numberOfStreaks += 1\n",
    "                    break\n",
    "            else:\n",
    "                streak = 1  # Reset streak counter\n",
    "\n",
    "    # Calculate the chance of a streak\n",
    "    chanceOfStreak = (numberOfStreaks / 10000) * 100\n",
    "    return chanceOfStreak\n",
    "\n",
    "# Call the function and print the result\n",
    "print(\"Probability of a streak of 6 in a row in truly random sequences: %.2f%%\" % coin_flip())"
   ]
  },
  {
   "cell_type": "code",
   "execution_count": 81,
   "metadata": {},
   "outputs": [
    {
     "name": "stdout",
     "output_type": "stream",
     "text": [
      "Probability of a streak of 10 in a row in truly random sequences: 8.62%\n"
     ]
    }
   ],
   "source": [
    "def coin_flip():\n",
    "    numberOfStreaks = 0\n",
    "\n",
    "    for experimentNumber in range(10000):\n",
    "        # Generate a list of 100 random coin flips ('H' for heads, 'T' for tails)\n",
    "        coinFlips = [random.choice(['H', 'T']) for _ in range(100)]\n",
    "\n",
    "        # Check for streaks of 6 in a row\n",
    "        streak = 1\n",
    "        for i in range(1, len(coinFlips)):\n",
    "            if coinFlips[i] == coinFlips[i - 1]:\n",
    "                streak += 1\n",
    "                if streak == 10:  # Found a streak of 10\n",
    "                    numberOfStreaks += 1\n",
    "                    break\n",
    "            else:\n",
    "                streak = 1  # Reset streak counter\n",
    "\n",
    "    # Calculate the chance of a streak\n",
    "    chanceOfStreak = (numberOfStreaks / 10000) * 100\n",
    "    return chanceOfStreak\n",
    "\n",
    "# Call the function and print the result\n",
    "print(\"Probability of a streak of 10 in a row in truly random sequences: %.2f%%\" % coin_flip())"
   ]
  },
  {
   "cell_type": "markdown",
   "metadata": {},
   "source": [
    "### Back to the dungeon!\n",
    "\n",
    "Remember [bashcrawl]() from the second lab exercise? Now we are going back the \"dungeon setting\" but **this time you will actually implement parts of the game!**\n",
    "\n",
    "#### Fantasy Game Inventory\n",
    "\n",
    "**Source:** https://automatetheboringstuff.com/2e/chapter5/\n",
    "\n",
    "You are creating a fantasy video game. The data structure to model the player’s inventory will be a dictionary where the keys are string values describing the item in the inventory and the value is an integer value detailing how many of that item the player has. For example, the dictionary value {'rope': 1, 'torch': 6, 'gold coin': 42, 'dagger': 1, 'arrow': 12} means the player has 1 rope, 6 torches, 42 gold coins, and so on.\n",
    "\n",
    "Write a function named displayInventory() that would take any possible “inventory” and display it like the following:\n",
    "\n",
    "```\n",
    "Inventory:\n",
    "12 arrow\n",
    "42 gold coin\n",
    "1 rope\n",
    "6 torch\n",
    "1 dagger\n",
    "Total number of items: 62\n",
    "``` \n",
    "**Hint:** You can use a for loop to loop through all the keys in a dictionary.\n",
    "\n",
    "You can start with the following template:"
   ]
  },
  {
   "cell_type": "code",
   "execution_count": 90,
   "metadata": {},
   "outputs": [
    {
     "name": "stdout",
     "output_type": "stream",
     "text": [
      "Inventory:\n",
      "rope 1\n",
      "torch 6\n",
      "gold coin 42\n",
      "dagger 1\n",
      "arrow 12\n",
      "Total number of items: 62\n"
     ]
    }
   ],
   "source": [
    "stuff = {'rope': 1, 'torch': 6, 'gold coin': 42, 'dagger': 1, 'arrow': 12}\n",
    "\n",
    "def displayInventory(inventory):\n",
    "    print(\"Inventory:\")\n",
    "    item_total = 0\n",
    "    for k, v in inventory.items():\n",
    "        print(f\"{k} {v}\")  # Display each item and its count\n",
    "        item_total += v       # Add the count to the total\n",
    "    print(\"Total number of items: \" + str(item_total))\n",
    "\n",
    "displayInventory(stuff)"
   ]
  },
  {
   "cell_type": "markdown",
   "metadata": {},
   "source": [
    "#### List to Dictionary Function for Fantasy Game \n",
    "\n",
    "**Source:** https://automatetheboringstuff.com/2e/chapter5/\n",
    "\n",
    "Imagine that a vanquished dragon’s loot is represented as a list of strings like this:\n",
    "\n",
    "```\n",
    "dragonLoot = ['gold coin', 'dagger', 'gold coin', 'gold coin', 'ruby']\n",
    "```\n",
    "\n",
    "Write a function named addToInventory(inventory, addedItems), where the inventory parameter is a dictionary representing the player’s inventory (like in the previous project) and the addedItems parameter is a list like dragonLoot. The addToInventory() function should return a dictionary that represents the updated inventory. Note that the addedItems list can contain multiples of the same item. \n",
    "\n",
    "The previous program (with your displayInventory() function from the previous project) would output the following:\n",
    "\n",
    "```\n",
    "Inventory:\n",
    "45 gold coin\n",
    "1 rope\n",
    "1 ruby\n",
    "1 dagger\n",
    "\n",
    "Total number of items: 48\n",
    "```\n",
    "\n",
    "Your code could look something like this:\n"
   ]
  },
  {
   "cell_type": "code",
   "execution_count": 97,
   "metadata": {},
   "outputs": [
    {
     "name": "stdout",
     "output_type": "stream",
     "text": [
      "Inventory:\n",
      "45 gold coin\n",
      "1 rope\n",
      "1 dagger\n",
      "1 ruby\n",
      "Total number of items: 48\n"
     ]
    }
   ],
   "source": [
    "def addToInventory(inventory, addedItems):\n",
    "    # Loop through each item in the addedItems list\n",
    "    for item in addedItems:\n",
    "        # If the item exists in the inventory, increase its count\n",
    "        if item in inventory:\n",
    "            inventory[item] += 1\n",
    "        else:\n",
    "            # Otherwise, add the item to the inventory with a count of 1\n",
    "            inventory[item] = 1\n",
    "    return inventory\n",
    "\n",
    "def displayInventory(inventory):\n",
    "    print(\"Inventory:\")\n",
    "    item_total = 0\n",
    "    for item, count in inventory.items():\n",
    "        print(f\"{count} {item}\")\n",
    "        item_total += count\n",
    "    print(\"Total number of items: \" + str(item_total))\n",
    "\n",
    "# Initial inventory and loot\n",
    "inv = {'gold coin': 42, 'rope': 1}\n",
    "dragonLoot = ['gold coin', 'dagger', 'gold coin', 'gold coin', 'ruby']\n",
    "\n",
    "# Update inventory with the loot\n",
    "inv = addToInventory(inv, dragonLoot)\n",
    "\n",
    "# Display the updated inventory\n",
    "displayInventory(inv)"
   ]
  },
  {
   "cell_type": "code",
   "execution_count": null,
   "metadata": {},
   "outputs": [],
   "source": []
  }
 ],
 "metadata": {
  "kernelspec": {
   "display_name": "Python 3 (ipykernel)",
   "language": "python",
   "name": "python3"
  },
  "language_info": {
   "codemirror_mode": {
    "name": "ipython",
    "version": 3
   },
   "file_extension": ".py",
   "mimetype": "text/x-python",
   "name": "python",
   "nbconvert_exporter": "python",
   "pygments_lexer": "ipython3",
   "version": "3.9.13"
  }
 },
 "nbformat": 4,
 "nbformat_minor": 2
}
